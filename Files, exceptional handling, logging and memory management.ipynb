{
 "cells": [
  {
   "cell_type": "markdown",
   "id": "3ff81ab9-2b9e-492e-80ea-05edfe51abeb",
   "metadata": {},
   "source": [
    "##Files, exceptional handling, logging and memory management Questions"
   ]
  },
  {
   "cell_type": "markdown",
   "id": "f103607e-8f46-4af8-abe8-56eb6362d9bb",
   "metadata": {},
   "source": [
    "#THEORY QUESTIONS:-"
   ]
  },
  {
   "cell_type": "markdown",
   "id": "c98bb741-dc70-485a-aea3-43c28bff93e8",
   "metadata": {},
   "source": [
    "1. What is the difference between interpreted and compiled languages?\n",
    "   -\n",
    "   The difference between interpreted and compiled languages lies in how their code is translated into machine code that a computer can execute.\n",
    "-> Compiled Languages:\n",
    " - How they work: The entire program is translated into machine code by a compiler before it is run.\n",
    " - Advantages:\n",
    "Faster execution (since code is already compiled)\n",
    "Better performance and optimization\n",
    "\n",
    " - Disadvantages:\n",
    "Compilation step required before running\n",
    "Harder to debug (errors only show up after compilation)\n",
    "\n",
    "-> Interpreted Languages:\n",
    " - How they work: Code is executed line-by-line by an interpreter at runtime.\n",
    " - Advantages:\n",
    "Easier to test and debug (runs immediately)\n",
    "More flexible and portable\n",
    "\n",
    " - Disadvantages:\n",
    "Slower execution (interpreted at runtime)\n",
    "Generally less optimized than compiled code\n",
    "\n",
    "| Feature          | Compiled Language  | Interpreted Language      |\n",
    "| ---------------- | ------------------ | ------------------------- |\n",
    "| Translation Time | Before execution   | During execution          |\n",
    "| Speed            | Generally faster   | Generally slower          |\n",
    "| Portability      | Platform-dependent | More platform-independent |\n",
    "| Debugging        | Harder             | Easier                    |"
   ]
  },
  {
   "cell_type": "markdown",
   "id": "09a59361-4f76-4040-98cd-90bd3408eb1b",
   "metadata": {},
   "source": [
    "2. What is exception handling in Python?\n",
    "   -\n",
    "   Exception handling in Python is a mechanism to handle runtime errors gracefully so that the normal flow of a program is not interrupted.\n",
    "-> An exception is an error that occurs during the execution of a program. For example:\n",
    " - Division by zero (ZeroDivisionError)\n",
    " - Accessing a non-existent file (FileNotFoundError)\n",
    " - Using an undefined variable (NameError)\n",
    "\n",
    " -> How Exception Handling Works:\n",
    "Python uses try-except blocks to catch and handle exceptions."
   ]
  },
  {
   "cell_type": "code",
   "execution_count": 5,
   "id": "4f4ea908-6d06-4236-9da3-4e1782cf06ff",
   "metadata": {},
   "outputs": [
    {
     "name": "stdout",
     "output_type": "stream",
     "text": [
      "Cannot divide by zero!\n"
     ]
    }
   ],
   "source": [
    "try:\n",
    "    x = 10 / 0\n",
    "except ZeroDivisionError:\n",
    "    print(\"Cannot divide by zero!\")"
   ]
  },
  {
   "cell_type": "markdown",
   "id": "8fffab3f-10be-4b07-897c-aa9457b13e66",
   "metadata": {},
   "source": [
    "-> Optional Blocks:\n",
    "else: Runs if no exception occurs.\n",
    "finally: Always runs, whether an exception occurs or not (useful for cleanup tasks)."
   ]
  },
  {
   "cell_type": "code",
   "execution_count": 7,
   "id": "2081dc4d-8f16-4da6-adad-53b4fb424ddd",
   "metadata": {},
   "outputs": [
    {
     "name": "stdin",
     "output_type": "stream",
     "text": [
      "Enter a number:  677330088\n"
     ]
    },
    {
     "name": "stdout",
     "output_type": "stream",
     "text": [
      "Result is: 1.4763850266164464e-08\n",
      "This block always runs.\n"
     ]
    }
   ],
   "source": [
    "try:\n",
    "    num = int(input(\"Enter a number: \"))\n",
    "    result = 10 / num\n",
    "except ValueError:\n",
    "    print(\"Invalid input! Please enter a number.\")\n",
    "except ZeroDivisionError:\n",
    "    print(\"You can't divide by zero!\")\n",
    "else:\n",
    "    print(\"Result is:\", result)\n",
    "finally:\n",
    "    print(\"This block always runs.\")"
   ]
  },
  {
   "cell_type": "markdown",
   "id": "79916ccc-5070-4b8b-9a38-6b61b39e6985",
   "metadata": {},
   "source": [
    "-> Why Use Exception Handling?\n",
    " - Prevents the program from crashing unexpectedly\n",
    " - Allows custom error messages\n",
    " - Helps with debugging and maintaining code.\n",
    "\n",
    "| Exception Name      | Reason                                           |\n",
    "| ------------------- | ------------------------------------------------ |\n",
    "| `ZeroDivisionError` | Division by zero                                 |\n",
    "| `ValueError`        | Invalid value (e.g., converting a letter to int) |\n",
    "| `TypeError`         | Wrong data type used                             |\n",
    "| `FileNotFoundError` | File or path not found                           |\n",
    "| `IndexError`        | List index out of range                          |"
   ]
  },
  {
   "cell_type": "markdown",
   "id": "1fab252b-cd4c-4bb6-b2dd-03c5ece69435",
   "metadata": {},
   "source": [
    "3. What is the purpose of the finally block in exception handling?\n",
    "   -\n",
    "   The **finally** block in Python is used to define cleanup actions that must be executed no matter what—whether an exception is raised or not.\n",
    "-> Key Points:\n",
    " - The finally block always runs, even if:\n",
    "   An exception is raised and not handled\n",
    "   An exception is handled in an except block\n",
    "   There is a return, break, or continue in the try or except block"
   ]
  },
  {
   "cell_type": "markdown",
   "id": "9c9d6940-bf85-44cc-a9b3-697949667d38",
   "metadata": {},
   "source": [
    "#SYNTAX EXAMPLE:\n",
    "try:\n",
    "    x = 10 / 0\n",
    "except ZeroDivisionError:\n",
    "    print(\"Division by zero!\")\n",
    "finally:\n",
    "    print(\"This will always run.\")"
   ]
  },
  {
   "cell_type": "markdown",
   "id": "79d314dd-74b6-4f06-aa4f-7aba2530b39e",
   "metadata": {},
   "source": [
    "-> Common Uses of finally:\n",
    " - Closing files or database connections\n",
    " - Releasing external resources\n",
    " - Resetting variables or states\n",
    " - Logging"
   ]
  },
  {
   "cell_type": "code",
   "execution_count": 12,
   "id": "5cb5079a-a0ef-4756-9d2c-0892f64e946e",
   "metadata": {},
   "outputs": [
    {
     "name": "stdout",
     "output_type": "stream",
     "text": [
      "File not found.\n",
      "Closing file.\n"
     ]
    }
   ],
   "source": [
    "#Example with File Handling:\n",
    "\n",
    "try:\n",
    "    file = open(\"data.txt\", \"r\")\n",
    "    content = file.read()\n",
    "except FileNotFoundError:\n",
    "    print(\"File not found.\")\n",
    "finally:\n",
    "    print(\"Closing file.\")\n",
    "    if 'file' in locals():\n",
    "        file.close()\n",
    "\n",
    "#Even if the file doesn't exist, the finally block still executes."
   ]
  },
  {
   "cell_type": "markdown",
   "id": "8b86442d-3bf7-4ac9-be0b-1b5c243cb0ef",
   "metadata": {},
   "source": [
    "| Feature         | Description                                |\n",
    "| --------------- | ------------------------------------------ |\n",
    "| Always executes | Yes, whether or not an exception occurred  |\n",
    "| Use case        | Cleanup code, releasing resources, logging |\n",
    "| Optional        | Yes (not required, but useful)             |"
   ]
  },
  {
   "cell_type": "markdown",
   "id": "e28d1f90-9100-423a-99aa-87c864ff1ec3",
   "metadata": {},
   "source": [
    "4. What is logging in Python?\n",
    "   -\n",
    "   Logging in Python is a way to track events that happen when a program runs. It’s used for debugging, monitoring, and recording errors or other significant events during execution.\n",
    "\n",
    "-> Why Use Logging Instead of print()?\n",
    " - print() is useful for simple debugging.\n",
    " - Logging is better for larger applications because:\n",
    "   - You can control what is logged (info, warning, error, etc.).\n",
    "   - You can write logs to a file, not just the console.\n",
    "   - You can keep logs even after the program ends."
   ]
  },
  {
   "cell_type": "code",
   "execution_count": 19,
   "id": "e3d20e37-e3fb-46be-b02e-c68062f2a463",
   "metadata": {},
   "outputs": [
    {
     "name": "stderr",
     "output_type": "stream",
     "text": [
      "INFO:root:Program started\n"
     ]
    }
   ],
   "source": [
    "#Basic Logging Example:\n",
    "\n",
    "import logging\n",
    "\n",
    "logging.basicConfig(level=logging.INFO)\n",
    "logging.info(\"Program started\")"
   ]
  },
  {
   "cell_type": "markdown",
   "id": "6cc2c733-374e-448a-8419-f4ddfd064739",
   "metadata": {},
   "source": [
    "Logging Levels (from lowest to highest severity):\n",
    "\n",
    "| Level      | Description                                  |\n",
    "| ---------- | -------------------------------------------- |\n",
    "| `DEBUG`    | Detailed information, for debugging          |\n",
    "| `INFO`     | General info about program flow              |\n",
    "| `WARNING`  | Something unexpected, but not an error       |\n",
    "| `ERROR`    | A serious problem, the program may still run |\n",
    "| `CRITICAL` | A very serious error; program may stop       |"
   ]
  },
  {
   "cell_type": "code",
   "execution_count": 22,
   "id": "dc43fe99-083a-4627-aa24-5e730734d1d8",
   "metadata": {},
   "outputs": [
    {
     "name": "stderr",
     "output_type": "stream",
     "text": [
      "WARNING:root:This is a warning\n",
      "ERROR:root:This is an error\n"
     ]
    }
   ],
   "source": [
    "# Custom Logging Setup:\n",
    "import logging\n",
    "\n",
    "logging.basicConfig(\n",
    "    filename='app.log',   \n",
    "    level=logging.DEBUG,\n",
    "    format='%(asctime)s - %(levelname)s - %(message)s'\n",
    ")\n",
    "\n",
    "logging.debug(\"This is a debug message\")\n",
    "logging.warning(\"This is a warning\")\n",
    "logging.error(\"This is an error\")\n",
    "\n",
    "#This writes logs to app.log with timestamps and log levels."
   ]
  },
  {
   "cell_type": "markdown",
   "id": "9a2eb630-7913-442f-a019-801dfb5189e4",
   "metadata": {},
   "source": [
    "-> Benefits of Logging:\n",
    " - Helps diagnose issues in running applications\n",
    " - Records a history of program execution\n",
    " - Can be configured to ignore less important messages\n",
    " - Works well in production environments\n",
    "\n",
    "| Feature        | Logging                           |\n",
    "| -------------- | --------------------------------- |\n",
    "| Purpose        | Track and record program events   |\n",
    "| Alternative to | `print()` (more powerful)         |\n",
    "| Configurable?  | Yes (levels, output file, format) |\n",
    "| Use cases      | Debugging, monitoring, auditing   |\n",
    "\n",
    "Logging is a key tool for maintaining and debugging real-world Python applications."
   ]
  },
  {
   "cell_type": "markdown",
   "id": "fc2df0a2-8445-4f37-bf8f-a91d8c3c3a38",
   "metadata": {},
   "source": [
    "5. What is the significance of the **del** method in Python?\n",
    "   -\n",
    "   The __del__ method in Python is a special method (also called a destructor) that is called automatically when an object is about to be destroyed—usually when it goes out of scope or is explicitly deleted.\n",
    "\n",
    "-> Purpose of __del__:\n",
    " - To clean up resources used by an object:\n",
    "   - Closing files\n",
    "   - Releasing network or database connections\n",
    "   - Freeing up memory (rarely needed due to Python’s garbage collector)"
   ]
  },
  {
   "cell_type": "code",
   "execution_count": 27,
   "id": "9acce198-69b9-4bd2-bdde-746029fa4789",
   "metadata": {},
   "outputs": [
    {
     "name": "stdout",
     "output_type": "stream",
     "text": [
      "Object is being destroyed\n"
     ]
    }
   ],
   "source": [
    "#Basic syntax:\n",
    "\n",
    "class MyClass:\n",
    "    def __del__(self):\n",
    "        print(\"Object is being destroyed\")\n",
    "\n",
    "obj = MyClass()\n",
    "del obj"
   ]
  },
  {
   "cell_type": "markdown",
   "id": "d2fac20a-61dc-48f7-9162-6ca83534d0b6",
   "metadata": {},
   "source": [
    "-> Important Notes:\n",
    " - You don’t need to use __del__ in most cases, because Python has automatic garbage collection.\n",
    " - __del__ is not guaranteed to be called immediately or even at all in some cases (e.g., circular references).\n",
    " - It should not raise exceptions, or it could interfere with object cleanup."
   ]
  },
  {
   "cell_type": "markdown",
   "id": "3cedf083-3e18-4168-ba7a-84841748c5e4",
   "metadata": {},
   "source": [
    "6.  What is the difference between import and from ... import in Python?\n",
    "    -\n",
    "    Both import and from ... import are used to include modules in your Python code, but they do so in different ways.\n",
    "    \n",
    "a. import Statement:"
   ]
  },
  {
   "cell_type": "code",
   "execution_count": 34,
   "id": "331fba2b-41c9-4bc3-a17d-93e793cb5303",
   "metadata": {},
   "outputs": [
    {
     "name": "stdout",
     "output_type": "stream",
     "text": [
      "4.0\n"
     ]
    }
   ],
   "source": [
    "import math\n",
    "print(math.sqrt(16))\n",
    "\n",
    "#What it does:\n",
    " #Imports the whole module.\n",
    " #You must prefix functions or variables with the module name."
   ]
  },
  {
   "cell_type": "markdown",
   "id": "dd8ca1c0-1841-410b-8047-fc9da7193155",
   "metadata": {},
   "source": [
    "b. from ... import Statement"
   ]
  },
  {
   "cell_type": "code",
   "execution_count": 37,
   "id": "ee0e45f6-9fda-458b-8262-002134e6579e",
   "metadata": {},
   "outputs": [
    {
     "name": "stdout",
     "output_type": "stream",
     "text": [
      "4.0\n"
     ]
    }
   ],
   "source": [
    "from math import sqrt\n",
    "print(sqrt(16))\n",
    "\n",
    "#What it does:\n",
    " #Imports specific functions, classes, or variables from a module.\n",
    " #You don’t need to prefix them with the module name."
   ]
  },
  {
   "cell_type": "markdown",
   "id": "434fda9c-fd2c-44f0-9b13-c0593cc49732",
   "metadata": {},
   "source": [
    "-> Key Differences:\n",
    "\n",
    "| Feature                  | `import`                       | `from ... import`                |\n",
    "| ------------------------ | ------------------------------ | -------------------------------- |\n",
    "| What is imported         | Entire module                  | Specific objects from the module |\n",
    "| How to use functions     | `module_name.function()`       | `function()` directly            |\n",
    "| Namespace clarity        | Clear (reduces name conflicts) | Less clear (may overwrite names) |\n",
    "| Performance (very minor) | May load more than needed      | Loads only what's specified      |"
   ]
  },
  {
   "cell_type": "markdown",
   "id": "32daa4e0-d637-4f99-bd1d-373b2f4136ee",
   "metadata": {},
   "source": [
    "7. How can you handle multiple exceptions in Python?\n",
    "   -\n",
    "   In Python, you can handle multiple exceptions using either:\n",
    "\n",
    " - Multiple except blocks, or\n",
    " - A single except block with multiple exceptions"
   ]
  },
  {
   "cell_type": "markdown",
   "id": "3c0ca4ff-e73f-41e8-a250-d60475636140",
   "metadata": {},
   "source": [
    "-> Option 1: Multiple except Blocks\n",
    " - You can catch different types of exceptions separately.\n",
    "\n",
    "-> Advantages:\n",
    " - You can provide a custom message for each exception."
   ]
  },
  {
   "cell_type": "code",
   "execution_count": 42,
   "id": "d8499039-cbb7-46a6-b395-48778077885c",
   "metadata": {},
   "outputs": [
    {
     "name": "stdin",
     "output_type": "stream",
     "text": [
      "Enter a number:  987\n"
     ]
    }
   ],
   "source": [
    "try:\n",
    "    x = int(input(\"Enter a number: \"))\n",
    "    result = 10 / x\n",
    "except ValueError:\n",
    "    print(\"Invalid input! Please enter a number.\")\n",
    "except ZeroDivisionError:\n",
    "    print(\"You cannot divide by zero.\")"
   ]
  },
  {
   "cell_type": "markdown",
   "id": "3518837b-8372-4c24-8258-850e6a184fc9",
   "metadata": {},
   "source": [
    "-> Option 2: Single except Block for Multiple Exceptions\n",
    " - You can catch multiple exceptions in one block using a tuple.\n",
    "\n",
    "-> When to use:\n",
    " - When you want the same response for multiple exception types."
   ]
  },
  {
   "cell_type": "code",
   "execution_count": 44,
   "id": "6783a3aa-c9a5-4ae4-a97e-02e506cc2371",
   "metadata": {},
   "outputs": [
    {
     "name": "stdin",
     "output_type": "stream",
     "text": [
      "Enter a number:  32\n"
     ]
    }
   ],
   "source": [
    "try:\n",
    "    x = int(input(\"Enter a number: \"))\n",
    "    result = 10 / x\n",
    "except (ValueError, ZeroDivisionError):\n",
    "    print(\"Something went wrong: invalid input or division by zero.\")"
   ]
  },
  {
   "cell_type": "markdown",
   "id": "e3aa0138-848e-421e-977c-ed77946bb94b",
   "metadata": {},
   "source": [
    "-> Option 3: Catch-All (Use with caution)\n",
    "-> Note: This catches all exceptions, which can hide bugs. Use only if you want to log or report all errors in a generic way."
   ]
  },
  {
   "cell_type": "code",
   "execution_count": 49,
   "id": "04d112e2-d6f7-45ef-846e-6cd813947e85",
   "metadata": {},
   "outputs": [
    {
     "name": "stdout",
     "output_type": "stream",
     "text": [
      "An error occurred: division by zero\n"
     ]
    }
   ],
   "source": [
    "try:\n",
    "    x = 1/0\n",
    "except Exception as e:\n",
    "    print(f\"An error occurred: {e}\")"
   ]
  },
  {
   "cell_type": "markdown",
   "id": "7418fc2b-d7fa-4633-8e44-f8f042b90ca7",
   "metadata": {},
   "source": [
    "8. What is the purpose of the with statement when handling files in Python?\n",
    "   -\n",
    "   The **with** statement in Python is used to open and manage resources like files safely and efficiently. When used with file operations, it ensures that the file is automatically closed, even if an error occurs during file processing.\n",
    "\n",
    "-> Why Use with for File Handling?\n",
    "Without with:"
   ]
  },
  {
   "cell_type": "code",
   "execution_count": 54,
   "id": "3816e544-27ad-42b1-a52e-51e329251ebc",
   "metadata": {},
   "outputs": [
    {
     "name": "stdout",
     "output_type": "stream",
     "text": [
      "The file 'data.txt' does not exist in the current directory.\n"
     ]
    }
   ],
   "source": [
    "try:\n",
    "    file = open(\"data.txt\", \"r\")\n",
    "    content = file.read()\n",
    "    file.close()\n",
    "except FileNotFoundError:\n",
    "    print(\"The file 'data.txt' does not exist in the current directory.\")"
   ]
  },
  {
   "cell_type": "code",
   "execution_count": 58,
   "id": "75fcb279-be03-4438-a78d-68121d67f953",
   "metadata": {},
   "outputs": [],
   "source": [
    "#With with:\n",
    "\n",
    "# Option 1: Create the file first if it doesn't exist\n",
    "with open(\"data.txt\", \"w\") as file:\n",
    "    file.write(\"This is some sample content\")  # Write some initial content\n",
    "\n",
    "# Then read from it\n",
    "with open(\"data.txt\", \"r\") as file:\n",
    "    content = file.read()\n",
    "    \n",
    "# Option 2: Use try-except to handle the case when the file doesn't exist\n",
    "try:\n",
    "    with open(\"data.txt\", \"r\") as file:\n",
    "        content = file.read()\n",
    "except FileNotFoundError:\n",
    "    print(\"The file 'data.txt' does not exist.\")\n",
    "    # You could create the file here or take other appropriate action"
   ]
  },
  {
   "cell_type": "markdown",
   "id": "212417f5-065c-4258-b3b7-7e5b04f52c6a",
   "metadata": {},
   "source": [
    "-> Benefits of Using with:\n",
    "| Feature                 | Benefit                                     |\n",
    "| ----------------------- | ------------------------------------------- |\n",
    "| Automatic cleanup       | Closes the file even if an exception occurs |\n",
    "| Cleaner code            | No need to manually call `close()`          |\n",
    "| Safer resource handling | Prevents memory leaks or locked files       |\n",
    "| Better readability      | Clear structure and intent                  |"
   ]
  },
  {
   "cell_type": "markdown",
   "id": "913567f3-e199-470a-9370-9fc0d7776039",
   "metadata": {},
   "source": [
    "-> How It Works:\n",
    " - open() returns a file object.\n",
    " - The with statement calls the file’s __enter__ method when the block starts, and __exit__ method when the block ends     (even if there's an error).\n",
    " - This ensures the file is properly released/closed."
   ]
  },
  {
   "cell_type": "code",
   "execution_count": 61,
   "id": "ce374092-ce88-40b7-86f2-4841b79d62ec",
   "metadata": {},
   "outputs": [
    {
     "name": "stdout",
     "output_type": "stream",
     "text": [
      "This is some sample content\n"
     ]
    }
   ],
   "source": [
    "try:\n",
    "    with open(\"data.txt\", \"r\") as file:\n",
    "        for line in file:\n",
    "            print(line.strip())\n",
    "except FileNotFoundError:\n",
    "    print(\"The file does not exist.\")\n",
    "\n",
    "#If the file doesn't exist, it handles the error. If it does, it reads and prints it line by line. Either way, the file is closed automatically."
   ]
  },
  {
   "cell_type": "markdown",
   "id": "79001696-2c85-4526-91f5-3c66e7739de4",
   "metadata": {},
   "source": [
    "| Feature           | `with` Statement Use in File Handling   |\n",
    "| ----------------- | --------------------------------------- |\n",
    "| Main purpose      | Manage files and other resources safely |\n",
    "| Auto-closes file? | Yes, even if exceptions occur           |\n",
    "| Replaces what?    | Manual `open()` and `close()` calls     |\n",
    "| Best practice?    | Yes — always use `with` for file I/O    |"
   ]
  },
  {
   "cell_type": "markdown",
   "id": "41dd6dfe-59ea-4131-8a9f-30e69f7a1b3a",
   "metadata": {},
   "source": [
    "9.  What is the difference between multithreading and multiprocessing?\n",
    "    -\n",
    "    Both multithreading and multiprocessing are techniques for achieving concurrent execution in Python, but they differ in how they work and what they are best suited for.\n",
    "\n",
    "->  Multithreading:\n",
    " - Definition: Running multiple threads (lightweight processes) within a single process.\n",
    " - Used for: Tasks that are I/O-bound (e.g., reading files, network calls).\n",
    " - Shares memory: All threads share the same memory space.\n",
    " - Limitation in Python: Due to the Global Interpreter Lock (GIL), only one thread runs Python bytecode at a time."
   ]
  },
  {
   "cell_type": "code",
   "execution_count": 65,
   "id": "8488c529-dbd8-4a43-970a-ed0bc7466c83",
   "metadata": {},
   "outputs": [
    {
     "name": "stdout",
     "output_type": "stream",
     "text": [
      "0\n",
      "1\n",
      "2\n",
      "3\n",
      "4\n"
     ]
    }
   ],
   "source": [
    "import threading\n",
    "\n",
    "def print_numbers():\n",
    "    for i in range(5):\n",
    "        print(i)\n",
    "\n",
    "thread = threading.Thread(target=print_numbers)\n",
    "thread.start()"
   ]
  },
  {
   "cell_type": "markdown",
   "id": "c746bf38-923e-43d1-a564-4a4d9108d9b8",
   "metadata": {},
   "source": [
    "-> Multiprocessing:\n",
    " - Definition: Running multiple processes, each with its own Python interpreter and memory space.\n",
    " - Used for: Tasks that are CPU-bound (e.g., data processing, heavy computations).\n",
    " - No GIL issue: Each process runs in parallel on different CPU cores."
   ]
  },
  {
   "cell_type": "code",
   "execution_count": 67,
   "id": "dc86645b-d2db-453a-80b7-c1fef23de9f4",
   "metadata": {},
   "outputs": [],
   "source": [
    "import multiprocessing\n",
    "\n",
    "def print_numbers():\n",
    "    for i in range(5):\n",
    "        print(i)\n",
    "\n",
    "process = multiprocessing.Process(target=print_numbers)\n",
    "process.start()"
   ]
  },
  {
   "cell_type": "markdown",
   "id": "612fad99-cc01-4510-821a-368283cc8104",
   "metadata": {},
   "source": [
    "-> Key Differences:\n",
    "| Feature                       | Multithreading                     | Multiprocessing                      |\n",
    "| ----------------------------- | ---------------------------------- | ------------------------------------ |\n",
    "| Execution model               | Multiple threads in one process    | Multiple independent processes       |\n",
    "| Memory                        | Shared memory                      | Separate memory spaces               |\n",
    "| GIL (Global Interpreter Lock) | Affected (limits true parallelism) | Not affected (true parallelism)      |\n",
    "| Best for                      | I/O-bound tasks                    | CPU-bound tasks                      |\n",
    "| Overhead                      | Lower (lightweight)                | Higher (process creation is heavier) |\n",
    "| Stability                     | Can have issues with shared memory | More stable for heavy parallel tasks |"
   ]
  },
  {
   "cell_type": "markdown",
   "id": "f3be8022-c661-452a-a55a-d2fc604dfc75",
   "metadata": {},
   "source": [
    "10.  What are the advantages of using logging in a program?\n",
    "     -\n",
    "     Using the **logging** module in Python offers several advantages over using simple print() statements, especially for real-world applications.\n",
    "\n",
    " -> Key Advantages of Logging:\n",
    "a. Tracks Events in Real-Time\n",
    " - Logging records what your program is doing as it runs.\n",
    " - Useful for monitoring the application’s behavior and diagnosing issues.\n",
    "\n",
    "b. Provides Different Levels of Severity\n",
    "  You can categorize messages by importance:\n",
    " - DEBUG – Detailed info, for debugging\n",
    " - INFO – General events (e.g., \"user logged in\")\n",
    " - WARNING – Something unexpected but not crashing\n",
    " - ERROR – A serious issue that affects functionality\n",
    " - CRITICAL – A major failure (e.g., system crash)\n",
    "\n",
    "c. Easy to Enable/Disable or Redirect\n",
    "You can turn logging on/off or redirect it to a file, console, or external system without changing your code logic."
   ]
  },
  {
   "cell_type": "code",
   "execution_count": 71,
   "id": "8fbddf4a-e894-4144-b206-68dd8ca0e659",
   "metadata": {},
   "outputs": [
    {
     "name": "stderr",
     "output_type": "stream",
     "text": [
      "INFO:root:Program started\n"
     ]
    }
   ],
   "source": [
    "import logging\n",
    "\n",
    "logging.basicConfig(filename='app.log', level=logging.INFO)\n",
    "logging.info('Program started')"
   ]
  },
  {
   "cell_type": "markdown",
   "id": "8795ddce-f78f-468f-a682-b7ed83ab74f0",
   "metadata": {},
   "source": [
    "d. Better Than print() for Large Projects\n",
    " - print() clutters the code and cannot be filtered by severity.\n",
    " - Logging allows structured, maintainable, and scalable output.\n",
    "\n",
    "e. Automatically Records Time and Context\n",
    " - Logs can include timestamps, function names, line numbers, etc., which help in debugging."
   ]
  },
  {
   "cell_type": "code",
   "execution_count": 73,
   "id": "9d38a07c-0ed7-4f4d-bc45-3851bd84cc94",
   "metadata": {},
   "outputs": [],
   "source": [
    "logging.basicConfig(format='%(asctime)s - %(levelname)s - %(message)s')"
   ]
  },
  {
   "cell_type": "markdown",
   "id": "40bcb20c-4102-491f-9467-6a8be907e318",
   "metadata": {},
   "source": [
    "f. Useful for Debugging After Deployment\n",
    " - In live/production systems, logs help developers understand what went wrong without accessing the source or rerunning the program.\n",
    "\n",
    "g. Supports Rotating and Archiving Logs\n",
    " - Using handlers like RotatingFileHandler, logs can be rotated and archived automatically to manage disk space.\n",
    "\n",
    "-> Logging Advantages:\n",
    "\n",
    "| Advantage                 | Benefit                                      |\n",
    "| ------------------------- | -------------------------------------------- |\n",
    "| Severity levels           | Filter and control log detail                |\n",
    "| Persistent storage        | Logs can be saved for later analysis         |\n",
    "| Structured output         | More organized than `print()`                |\n",
    "| Helps with debugging      | Especially when you can't reproduce an error |\n",
    "| Scalable and configurable | Works across modules and large applications  |"
   ]
  },
  {
   "cell_type": "markdown",
   "id": "aac4883b-2066-4b84-ae19-49ac7feec5da",
   "metadata": {},
   "source": [
    "11. What is memory management in Python?\n",
    "    -\n",
    "    Memory management in Python refers to how Python allocates, uses, and releases memory while your program runs.\n",
    "\n",
    "Python handles most memory-related tasks automatically, thanks to its built-in memory manager and garbage collector, which makes programming easier and safer.\n",
    "\n",
    "-> Key Components of Memory Management in Python:\n",
    "a. Automatic Memory Allocation\n",
    " - When you create variables, objects, or data structures, Python automatically allocates memory.\n",
    " - Memory is allocated from a private heap space managed by the Python interpreter.\n",
    "\n",
    "b. Garbage Collection\n",
    " - Python has a built-in garbage collector that automatically frees memory by removing unused (unreachable) objects.\n",
    " - It uses reference counting and cyclic garbage collection.\n",
    "\n",
    "-> Reference Counting:\n",
    "Each object has a count of references pointing to it. When this count reaches 0, the object is deleted.\n",
    "\n",
    "-> Cyclic Garbage Collector:\n",
    "It detects and cleans up circular references (e.g., objects referencing each other in a loop).\n",
    "\n",
    "c. Memory Pools\n",
    " - Python uses a system called \"pymalloc\" for managing small objects.\n",
    " - It improves performance by reusing memory blocks from pools rather than requesting fresh memory from the OS.\n",
    "\n",
    "d. gc Module\n",
    " - Python provides the gc module to manually interact with the garbage collector."
   ]
  },
  {
   "cell_type": "code",
   "execution_count": 78,
   "id": "630e23f4-71df-4b6c-b022-d52192d3357b",
   "metadata": {},
   "outputs": [
    {
     "data": {
      "text/plain": [
       "802"
      ]
     },
     "execution_count": 78,
     "metadata": {},
     "output_type": "execute_result"
    }
   ],
   "source": [
    "import gc\n",
    "gc.collect()  # Force garbage collection"
   ]
  },
  {
   "cell_type": "markdown",
   "id": "ac8367df-62e7-4c9b-80b8-f3b4aa916bf4",
   "metadata": {},
   "source": [
    " -> Benefits of Python's Memory Management:\n",
    " - Simplifies coding (no manual memory allocation or freeing)\n",
    " - Reduces memory leaks\n",
    " - Improves safety and stability of programs\n",
    "\n",
    "Python’s memory management system is efficient, automatic, and customizable, making it easier for developers to focus on logic rather than low-level memory handling."
   ]
  },
  {
   "cell_type": "markdown",
   "id": "a07704ef-0a3d-4650-a6d7-b0f78460ab0c",
   "metadata": {},
   "source": [
    "12.  What are the basic steps involved in exception handling in Python?\n",
    "     -\n",
    "     Exception handling in Python lets you gracefully handle errors that may occur during program execution, without crashing the program.\n",
    "\n",
    "-> Basic Steps of Exception Handling:\n",
    "a. Use a try Block to Wrap Risky Code\n",
    " - Place the code that might cause an error inside a try block."
   ]
  },
  {
   "cell_type": "code",
   "execution_count": null,
   "id": "94614be8-7a68-4f5e-8db2-ff3a34ae9efc",
   "metadata": {},
   "outputs": [],
   "source": [
    "try:\n",
    "    x = int(input(\"Enter a number: \"))\n",
    "    result = 10 / x"
   ]
  },
  {
   "cell_type": "markdown",
   "id": "00ad378b-9001-44ff-8ebe-560fbc374404",
   "metadata": {},
   "source": [
    "b. Use except Block(s) to Handle Specific Exceptions\n",
    " - Catch and respond to specific errors that might occur in the try block."
   ]
  },
  {
   "cell_type": "code",
   "execution_count": null,
   "id": "6e4391c6-bc49-4e69-8d66-e5b7ba0b7e71",
   "metadata": {},
   "outputs": [],
   "source": [
    "except ZeroDivisionError:\n",
    "    print(\"You cannot divide by zero.\")\n",
    "except ValueError:\n",
    "    print(\"Invalid input. Please enter a number.\")"
   ]
  },
  {
   "cell_type": "markdown",
   "id": "40597601-bc6c-4cce-8a24-3f500ec2efca",
   "metadata": {},
   "source": [
    "c. (Optional) Use a else Block for Code That Runs If No Exception Occurs\n",
    " - Runs only if the try block does not raise an exception."
   ]
  },
  {
   "cell_type": "code",
   "execution_count": null,
   "id": "fb030d18-2c8b-4766-90c8-89fae898464e",
   "metadata": {},
   "outputs": [],
   "source": [
    "else:\n",
    "    print(\"The result is:\", result)"
   ]
  },
  {
   "cell_type": "markdown",
   "id": "786a993c-d1b7-4ad7-b8ce-7160994c449c",
   "metadata": {},
   "source": [
    "d. (Optional) Use a finally Block to Clean Up Resources\n",
    " - Runs no matter what—whether an exception occurred or not."
   ]
  },
  {
   "cell_type": "code",
   "execution_count": null,
   "id": "3129c884-328c-433f-9906-0d6e265bec23",
   "metadata": {},
   "outputs": [],
   "source": [
    "finally:\n",
    "    print(\"Execution completed.\")"
   ]
  },
  {
   "cell_type": "markdown",
   "id": "3dfcd0d5-48a7-47e0-bfcd-1099a96a988e",
   "metadata": {},
   "source": [
    "#EXAMPLE :-\n",
    "\n",
    "try:\n",
    "    x = int(input(\"Enter a number: \"))\n",
    "    result = 10 / x\n",
    "except ZeroDivisionError:\n",
    "    print(\"Error: Cannot divide by zero.\")\n",
    "except ValueError:\n",
    "    print(\"Error: Please enter a valid number.\")\n",
    "else:\n",
    "    print(\"The result is:\", result)\n",
    "finally:\n",
    "    print(\"Finished processing.\")"
   ]
  },
  {
   "cell_type": "markdown",
   "id": "bd5e1808-99f9-43a2-be08-ec3477afed0f",
   "metadata": {},
   "source": [
    "13. Why is memory management important in Python?\n",
    "    -\n",
    "    Memory management is crucial in Python (and all programming languages) because it ensures your program uses system resources efficiently, runs smoothly, and avoids crashes or slowdowns.\n",
    "\n",
    "-> Key Reasons Why Memory Management Is Important in Python:\n",
    "a. Prevents Memory Leaks\n",
    " - Poor memory handling can lead to memory leaks, where unused objects remain in memory and consume resources unnecessarily.\n",
    " - Python's automatic garbage collection helps avoid this, but understanding how memory works is still vital.\n",
    "\n",
    "b. Improves Performance\n",
    " - Efficient memory usage ensures your program:\n",
    " - Runs faster\n",
    " - Responds better\n",
    " - Uses less CPU and RAM\n",
    " - Especially important for large-scale applications, data processing, or real-time systems.\n",
    "\n",
    "c. Ensures Program Stability\n",
    " - Poor memory management can cause:\n",
    " - Crashes\n",
    " - Freezes\n",
    " - Out-of-memory errors\n",
    " - Good memory practices make your programs more stable and reliable.\n",
    "\n",
    "d. Enables Scalability\n",
    " - A program that uses memory efficiently can handle:\n",
    " - More users\n",
    " - Larger data sets\n",
    " - Longer runtimes\n",
    " - This is key for web applications, servers, or AI/ML models.\n",
    "\n",
    "e. Reduces Developer Errors\n",
    " - Understanding memory management helps avoid:\n",
    " - Holding references to unused objects\n",
    " - Unintended circular references\n",
    " - Misuse of large data structures"
   ]
  },
  {
   "cell_type": "markdown",
   "id": "408f6d0c-f783-4b98-bdec-dd8044bd25b4",
   "metadata": {},
   "source": [
    "14. What is the role of try and except in exception handling?\n",
    "    -\n",
    "    The **try** and **except** blocks are the core components of exception handling in Python. They allow your program to catch and handle errors gracefully instead of crashing when something goes wrong.\n",
    "\n",
    "-> Role of try:\n",
    " - The try block is used to wrap code that might raise an exception.\n",
    " - It tells Python: “Try to execute this code, but be ready if something fails.”\n",
    "If an error occurs inside the try block (like division by zero), Python jumps immediately to the corresponding except block."
   ]
  },
  {
   "cell_type": "code",
   "execution_count": null,
   "id": "9a5d4531-5047-408c-b5f8-d203743c2bd2",
   "metadata": {},
   "outputs": [],
   "source": [
    "try:\n",
    "    result = 10 / 0"
   ]
  },
  {
   "cell_type": "markdown",
   "id": "288b25d4-e351-4dc6-99e7-0d781da9c6fe",
   "metadata": {},
   "source": [
    "-> Role of except:\n",
    " - The except block defines how to handle the error.\n",
    " - You can catch specific exceptions or use a general catch-all."
   ]
  },
  {
   "cell_type": "code",
   "execution_count": null,
   "id": "24d6c016-3772-4827-bb86-1f4d3e7cbbe8",
   "metadata": {},
   "outputs": [],
   "source": [
    "except ZeroDivisionError:\n",
    "    print(\"You can't divide by zero.\")"
   ]
  },
  {
   "cell_type": "code",
   "execution_count": 94,
   "id": "a64dbb49-70d1-4bda-8e2f-0dc6772273a2",
   "metadata": {},
   "outputs": [
    {
     "name": "stdin",
     "output_type": "stream",
     "text": [
      "Enter a number:  66\n"
     ]
    }
   ],
   "source": [
    "#EXAMPLE:\n",
    "\n",
    "try:\n",
    "    x = int(input(\"Enter a number: \"))\n",
    "    result = 10 / x\n",
    "except ZeroDivisionError:\n",
    "    print(\"Error: Division by zero.\")\n",
    "except ValueError:\n",
    "    print(\"Error: Invalid number.\")"
   ]
  },
  {
   "cell_type": "markdown",
   "id": "9c01745f-48c7-4d04-9aa5-77dd0b74a5ee",
   "metadata": {},
   "source": [
    " -> Why Use try and except?\n",
    "| Feature                 | Benefit                                      |\n",
    "| ----------------------- | -------------------------------------------- |\n",
    "| Prevents program crash  | Keeps the program running even after errors  |\n",
    "| Custom error handling   | Lets you give meaningful messages or actions |\n",
    "| Debugging help          | Makes it easier to trace and fix problems    |\n",
    "| Cleaner user experience | Avoids confusing system errors for end users |"
   ]
  },
  {
   "cell_type": "markdown",
   "id": "94f4fb95-665b-48db-b64e-b47ad62bb86b",
   "metadata": {},
   "source": [
    "15. How does Python's garbage collection system work?\n",
    "    -\n",
    "    Python’s garbage collection (GC) system is responsible for automatically managing memory by reclaiming memory used by objects no longer needed (unreachable). This helps prevent memory leaks and keeps programs running efficiently.\n",
    "\n",
    "-> How It Works:\n",
    "Python's garbage collector primarily uses two techniques:\n",
    "\n",
    "a. Reference Counting\n",
    " - Every object in Python has a reference count — a number tracking how many variables or containers refer to it.\n",
    " - When an object’s reference count drops to zero, it means no one is using it, so it can be safely deleted."
   ]
  },
  {
   "cell_type": "code",
   "execution_count": 97,
   "id": "3cf0073d-5c95-45f8-8595-9b01dce8a078",
   "metadata": {},
   "outputs": [],
   "source": [
    "a = \"hello\"\n",
    "b = a  \n",
    "del a  \n",
    "del b  "
   ]
  },
  {
   "cell_type": "markdown",
   "id": "3ec373e0-f8f3-49c7-a4bb-7db34d0d8331",
   "metadata": {},
   "source": [
    "b. Cyclic Garbage Collection\n",
    " - Reference counting cannot detect circular references, like two objects referencing each other.\n",
    " - Python has a cyclic garbage collector to handle this.\n",
    " - It periodically scans memory for groups of objects that reference each other but are not used anywhere else, and deletes them.\n",
    "\n",
    "Example of Circular Reference:"
   ]
  },
  {
   "cell_type": "code",
   "execution_count": 101,
   "id": "4cd9662e-0004-402d-a710-e03cb73fae94",
   "metadata": {},
   "outputs": [],
   "source": [
    "class Node:\n",
    "    def __init__(self):\n",
    "        self.ref = None\n",
    "\n",
    "a = Node()\n",
    "b = Node()\n",
    "a.ref = b\n",
    "b.ref = a  \n",
    "\n",
    "del a\n",
    "del b"
   ]
  },
  {
   "cell_type": "markdown",
   "id": "ee1f2f98-4a71-4a11-bce0-a48704ea9a0c",
   "metadata": {},
   "source": [
    "-> Controlling the Garbage Collector:\n",
    " - You can use the gc module to interact with the garbage collector manually.\n",
    " - You can also:\n",
    "   - Enable or disable GC: gc.enable(), gc.disable()\n",
    "   - Monitor collected/unreachable objects\n",
    "   - Set collection thresholds"
   ]
  },
  {
   "cell_type": "code",
   "execution_count": 104,
   "id": "69b34fbd-16f8-4314-80ef-f1ffbbc95557",
   "metadata": {},
   "outputs": [
    {
     "data": {
      "text/plain": [
       "45"
      ]
     },
     "execution_count": 104,
     "metadata": {},
     "output_type": "execute_result"
    }
   ],
   "source": [
    "import gc\n",
    "gc.collect()"
   ]
  },
  {
   "cell_type": "markdown",
   "id": "9a737766-93e5-4287-84f8-eb1d7ec5d3d3",
   "metadata": {},
   "source": [
    "-> Why It Matters:\n",
    " - Keeps memory usage low\n",
    " - Prevents memory leaks\n",
    " - Improves performance over time\n",
    " - Helps in long-running or complex programs (like servers or data processing apps)"
   ]
  },
  {
   "cell_type": "markdown",
   "id": "4e939cde-816a-4c78-a242-838924db9ddd",
   "metadata": {},
   "source": [
    "16. What is the purpose of the else block in exception handling?\n",
    "    -\n",
    "    The **else** block in Python's exception handling is used to define code that should run only if no exception occurs in the try block.\n",
    "\n",
    " -> Purpose of the else Block:\n",
    " - It allows you to separate error-handling code from the normal logic.\n",
    " - Helps make your code clearer and more readable.\n",
    " - Runs only when the try block succeeds completely (i.e., no exceptions are raised).\n",
    "\n",
    "-> Syntax:"
   ]
  },
  {
   "cell_type": "code",
   "execution_count": null,
   "id": "4e53f718-9d64-47be-8a8c-eed8e0d8ff58",
   "metadata": {},
   "outputs": [],
   "source": [
    "try:\n",
    "    # Risky code\n",
    "except SomeError:\n",
    "    # Handle error\n",
    "else:\n",
    "    # Runs if no error occurred"
   ]
  },
  {
   "cell_type": "code",
   "execution_count": 111,
   "id": "6920ed49-2961-4a19-a2f2-d0054498fc51",
   "metadata": {},
   "outputs": [
    {
     "name": "stdin",
     "output_type": "stream",
     "text": [
      "Enter a number:  69\n"
     ]
    },
    {
     "name": "stdout",
     "output_type": "stream",
     "text": [
      "You entered 69, good job!\n"
     ]
    }
   ],
   "source": [
    "#Example:\n",
    "\n",
    "try:\n",
    "    number = int(input(\"Enter a number: \"))\n",
    "except ValueError:\n",
    "    print(\"That was not a number!\")\n",
    "else:\n",
    "    print(f\"You entered {number}, good job!\")\n",
    "\n",
    "#If the input is valid, the else block runs.\n",
    "#If an exception is raised (e.g., non-numeric input), the else block is skipped."
   ]
  },
  {
   "cell_type": "markdown",
   "id": "2ba0345c-957b-4609-a48b-4a43abbd6249",
   "metadata": {},
   "source": [
    "-> Why Use else Instead of Just Putting Code After try/except?\n",
    " - Putting code in else:\n",
    "   - Makes it clearer that the code should only run if no exception happened.\n",
    "   - Avoids accidentally executing follow-up logic if an error occurred.\n",
    "   - Keeps error-handling (except) separate from normal execution."
   ]
  },
  {
   "cell_type": "markdown",
   "id": "ad448483-de22-49ed-8ce9-11739616f30a",
   "metadata": {},
   "source": [
    "17. What are the common logging levels in Python?\n",
    "    -\n",
    "    "
   ]
  },
  {
   "cell_type": "markdown",
   "id": "6a91d9f5-e268-4b59-a69a-20072e7dca64",
   "metadata": {},
   "source": [
    "-> In Python's logging module, there are five common logging levels that indicate the severity of messages:\n",
    "\n",
    "a. DEBUG (logging.DEBUG)\n",
    " - Used for detailed debugging information.\n",
    " - Example: \"Function X was called with parameters Y.\"\n",
    "\n",
    "b. INFO (logging.INFO)\n",
    " - Records general events in the application flow.\n",
    " - Example: \"User successfully logged in.\"\n",
    "\n",
    "c. WARNING (logging.WARNING)\n",
    " - Indicates potential issues that don’t disrupt execution.\n",
    " - Example: \"Low disk space detected.\"\n",
    "\n",
    "d. ERROR (logging.ERROR)\n",
    " - Reports serious issues in execution.\n",
    " - Example: \"Failed to connect to database.\"\n",
    "\n",
    "e. CRITICAL (logging.CRITICAL)\n",
    " - Logs severe errors that may cause the program to crash.\n",
    " - Example: \"Application shutting down due to fatal error.\""
   ]
  },
  {
   "cell_type": "code",
   "execution_count": 211,
   "id": "36c5aeb6-cf0a-4bc4-a77f-fe3938b40322",
   "metadata": {},
   "outputs": [],
   "source": [
    "#EXAMPLE :\n",
    "\n",
    "import logging\n",
    "\n",
    "# Configure logging\n",
    "logging.basicConfig(level=logging.DEBUG, format=\"%(levelname)s: %(message)s\")\n",
    "\n",
    "# Logging messages at different levels\n",
    "logging.debug(\"This is a debug message.\")\n",
    "logging.info(\"This is an info message.\")\n",
    "logging.warning(\"This is a warning message.\")\n",
    "logging.error(\"This is an error message.\")\n",
    "logging.critical(\"This is a critical message.\")"
   ]
  },
  {
   "cell_type": "code",
   "execution_count": null,
   "id": "45759233-ece8-4a97-8527-942351907eeb",
   "metadata": {},
   "outputs": [],
   "source": [
    "#EXPECTED OUTPUT:\n",
    "\n",
    "DEBUG: This is a debug message.\n",
    "INFO: This is an info message.\n",
    "WARNING: This is a warning message.\n",
    "ERROR: This is an error message.\n",
    "CRITICAL: This is a critical message.\n",
    "\n",
    "#These logging levels help developers filter messages based on severity for better debugging and monitoring."
   ]
  },
  {
   "cell_type": "markdown",
   "id": "0ab4e6d7-3bfb-4cda-b3da-5fb56a210b23",
   "metadata": {},
   "source": [
    "18.  What is the difference between os.fork() and multiprocessing in Python?\n",
    "     -\n",
    "     Both os.fork() and the multiprocessing module are used to create separate processes in Python, but they differ in usage, portability, and abstraction level.\n",
    "\n",
    "-> os.fork() – Low-Level Process Creation\n",
    " - os.fork() is a low-level Unix system call that creates a new child process by duplicating the current process.\n",
    " - It is available only on Unix-like systems (Linux, macOS).\n",
    " - After a fork:\n",
    "   - Both parent and child continue executing from the same point.\n",
    "   - You must manually handle inter-process communication (IPC)."
   ]
  },
  {
   "cell_type": "code",
   "execution_count": 116,
   "id": "5d3251b4-55cc-4a26-a507-b826e7fed2c0",
   "metadata": {},
   "outputs": [
    {
     "name": "stdout",
     "output_type": "stream",
     "text": [
      "Parent process\n"
     ]
    }
   ],
   "source": [
    "#Example:\n",
    "\n",
    "import platform\n",
    "import os\n",
    "import subprocess\n",
    "\n",
    "# Check which operating system we're on\n",
    "if platform.system() in ['Linux', 'Darwin']:  # Linux or macOS\n",
    "    try:\n",
    "        pid = os.fork()\n",
    "        \n",
    "        if pid == 0:\n",
    "            print(\"Child process\")\n",
    "        else:\n",
    "            print(\"Parent process\")\n",
    "    except AttributeError:\n",
    "        print(\"fork() not available on this system\")\n",
    "else:  # Windows or other OS\n",
    "    # Alternative approach using subprocess module\n",
    "    print(\"Parent process\")\n",
    "    # Start a new Python process\n",
    "    subprocess.Popen(['python', '-c', 'print(\"Child process\")'])"
   ]
  },
  {
   "cell_type": "markdown",
   "id": "6a79ab93-1b63-4554-ac35-35c68b700fd5",
   "metadata": {},
   "source": [
    "-> multiprocessing – High-Level Process Management\n",
    " - multiprocessing is a cross-platform Python module that allows you to create and manage separate processes easily.\n",
    " - It uses fork() internally on Unix, and spawn() on Windows.\n",
    " - Provides features like:\n",
    "   - Process class\n",
    "   - Shared memory\n",
    "   - Queues, Pipes (for IPC)\n",
    "   - Pool of worker processes"
   ]
  },
  {
   "cell_type": "code",
   "execution_count": 119,
   "id": "0b5fdc2f-3e0b-48d1-a8c3-88fee19f6bba",
   "metadata": {},
   "outputs": [],
   "source": [
    "#Example:\n",
    "from multiprocessing import Process\n",
    "\n",
    "def worker():\n",
    "    print(\"Worker process\")\n",
    "\n",
    "p = Process(target=worker)\n",
    "p.start()\n",
    "p.join()"
   ]
  },
  {
   "cell_type": "markdown",
   "id": "00b35da9-859d-438a-a3a7-4167b63d6edb",
   "metadata": {},
   "source": [
    "-> KEY DIFFERENCE :\n",
    "\n",
    "| Feature     | `os.fork()`                   | `multiprocessing`                       |\n",
    "| ----------- | ----------------------------- | --------------------------------------- |\n",
    "| Level       | Low-level (manual)            | High-level (simplified API)             |\n",
    "| Portability | Unix/Linux only               | Cross-platform (Windows, macOS, Linux)  |\n",
    "| IPC Support | Manual (e.g., pipes, sockets) | Built-in (queues, pipes, shared memory) |\n",
    "| Code Safety | Risk of bugs if misused       | Safer and easier to use                 |\n",
    "| Use Case    | Advanced process control      | General-purpose parallel processing     |"
   ]
  },
  {
   "cell_type": "markdown",
   "id": "f78b1f85-39c2-4c15-822c-63038d137520",
   "metadata": {},
   "source": [
    "->When to Use What?\n",
    " - Use os.fork() only if:\n",
    "   - You're on Unix/Linux\n",
    "   - You need fine-grained control over low-level process behavior\n",
    "\n",
    " - Use multiprocessing if:\n",
    "   - You want portable, clean, and easy-to-read code\n",
    "   - You need built-in support for process communication and management"
   ]
  },
  {
   "cell_type": "markdown",
   "id": "d8b56780-b9f7-450b-b22e-9736ccecb980",
   "metadata": {},
   "source": [
    "19.  What is the importance of closing a file in Python?\n",
    "     -\n",
    "     Closing a file in Python is crucial for resource management, data integrity, and program stability. When you open a file using open(), Python allocates system resources to it — and those must be released once you're done.\n",
    "\n",
    "Why Closing a File Is Important:\n",
    "\n",
    "a. Frees System Resources\n",
    " - Every open file uses system resources (like memory and file handles).\n",
    " - If too many files remain open, it can exhaust system limits and cause errors like:"
   ]
  },
  {
   "cell_type": "code",
   "execution_count": null,
   "id": "0a72d1b8-8805-4852-8d75-267ccd4e51b6",
   "metadata": {},
   "outputs": [],
   "source": [
    "OSError: [Errno 24] Too many open files"
   ]
  },
  {
   "cell_type": "markdown",
   "id": "85b75a79-0b4e-4d4d-b06d-212fea8f1a4b",
   "metadata": {},
   "source": [
    "b. Ensures Data Is Written to Disk\n",
    " - When writing to a file, data is often stored in a buffer before being physically written to disk.\n",
    " - Calling .close() flushes the buffer — ensuring all data is saved."
   ]
  },
  {
   "cell_type": "code",
   "execution_count": 127,
   "id": "ced0ab18-9b12-4f05-a53b-415d434530d2",
   "metadata": {},
   "outputs": [],
   "source": [
    "f = open(\"data.txt\", \"w\")\n",
    "f.write(\"Hello, world!\")\n",
    "f.close()  # Ensures data is actually written"
   ]
  },
  {
   "cell_type": "markdown",
   "id": "a0ce82a6-9f94-4cd0-a3ab-2b4eb3c3f2bf",
   "metadata": {},
   "source": [
    "c. Prevents File Corruption\n",
    " - If a file is not closed properly (especially during writing), it can result in incomplete or corrupted files, especially on crashes or power failures.\n",
    "\n",
    "d. Allows Other Programs to Access the File\n",
    " - Some systems lock files while they're open.\n",
    " - Not closing a file can block access for other processes or parts of your program.\n",
    "\n",
    "-> Best Practice: Use with Statement\n",
    "Python provides the with statement (context manager) to handle files safely and automatically:"
   ]
  },
  {
   "cell_type": "code",
   "execution_count": 130,
   "id": "c6bbef5b-acbc-47a7-818f-e94ff74add09",
   "metadata": {},
   "outputs": [],
   "source": [
    "with open(\"data.txt\", \"w\") as f:\n",
    "    f.write(\"Safe and clean!\")\n",
    "\n",
    "# File is automatically closed after the block"
   ]
  },
  {
   "cell_type": "markdown",
   "id": "b05a23ce-3f96-43fe-9f14-ce0583af4a39",
   "metadata": {},
   "source": [
    "| Reason                   | Benefit                                     |\n",
    "| ------------------------ | ------------------------------------------- |\n",
    "| Frees resources          | Prevents memory leaks and file limit errors |\n",
    "| Flushes buffer           | Ensures all data is saved                   |\n",
    "| Prevents file corruption | Safer file writing                          |\n",
    "| Avoids file locks        | Allows sharing/access by other programs     |\n",
    "| Encourages clean code    | Easier debugging and resource handling      |"
   ]
  },
  {
   "cell_type": "markdown",
   "id": "40cf5dce-193c-45b4-bd40-368b954aaea4",
   "metadata": {},
   "source": [
    "20.  What is the difference between file.read() and file.readline() in Python?\n",
    "     -\n",
    "     Both file.read() and file.readline() are used to read data from a file, but they differ in how much data they read and how they process lines.\n",
    "\n",
    "a. file.read()\n",
    " - Reads the entire file (or a specified number of bytes) into a single string.\n",
    " - Useful when you want to load the whole content at once."
   ]
  },
  {
   "cell_type": "code",
   "execution_count": null,
   "id": "83354ec4-345d-40cd-92d6-62215b0c7f77",
   "metadata": {},
   "outputs": [],
   "source": [
    "#EXAMPLE\n",
    "\n",
    "with open(\"sample.txt\", \"r\") as file:\n",
    "    content = file.read()\n",
    "    print(content)"
   ]
  },
  {
   "cell_type": "markdown",
   "id": "ab68d9e9-98d2-4dd7-96ad-2a19b3d6afd1",
   "metadata": {},
   "source": [
    "b. file.readline()\n",
    " - Reads just one line from the file (up to a newline \\n character).\n",
    " - Useful when processing a file line-by-line (e.g., for large files)."
   ]
  },
  {
   "cell_type": "code",
   "execution_count": null,
   "id": "9cdcb22f-2966-4cd5-a635-d6f7cf08bf42",
   "metadata": {},
   "outputs": [],
   "source": [
    "with open(\"sample.txt\", \"r\") as file:\n",
    "    line = file.readline()\n",
    "    print(line)"
   ]
  },
  {
   "cell_type": "markdown",
   "id": "a9936364-a79e-4e3f-821f-eb4cc8545ff4",
   "metadata": {},
   "source": [
    "-> KEY DIFFERENCE:\n",
    "| Feature      | `file.read()`                        | `file.readline()`               |\n",
    "| ------------ | ------------------------------------ | ------------------------------- |\n",
    "| Reads        | Entire file or fixed number of bytes | One line at a time              |\n",
    "| Return type  | Single string                        | Single string (one line)        |\n",
    "| Memory usage | Higher (for large files)             | Lower (line-by-line)            |\n",
    "| Use case     | When reading full content            | When parsing files line-by-line |"
   ]
  },
  {
   "cell_type": "markdown",
   "id": "ee79e372-7ca6-4c96-8b57-cf50e2bbf8f9",
   "metadata": {},
   "source": [
    "21. What is the logging module in Python used for?\n",
    "    -\n",
    "    The logging module in Python is used to record messages about a program’s execution. It helps developers track events, debug issues, and monitor application behavior — all without interrupting the normal flow of the program.\n",
    "\n",
    "-> Main Uses of the logging Module:\n",
    "a. Debugging:\n",
    "  - Log variable values, function calls, and internal states.\n",
    "\n",
    "b. Error Tracking:\n",
    "  - Record when and where errors happen — especially useful for diagnosing problems after deployment.\n",
    "\n",
    "c. System Monitoring:\n",
    "  - Keep track of operations, performance, and warnings in live systems.\n",
    "\n",
    "d. Audit Trails:\n",
    "  - Maintain logs for security and compliance (e.g., user logins, data access)."
   ]
  },
  {
   "cell_type": "code",
   "execution_count": 143,
   "id": "1fb9924b-4414-463c-9858-a853b43c5c7c",
   "metadata": {},
   "outputs": [
    {
     "name": "stderr",
     "output_type": "stream",
     "text": [
      "INFO:root:This is an info message\n",
      "WARNING:root:This is a warning\n",
      "ERROR:root:This is an error\n",
      "CRITICAL:root:This is critical\n"
     ]
    }
   ],
   "source": [
    "#EXAMPLE:\n",
    "\n",
    "import logging\n",
    "\n",
    "logging.basicConfig(level=logging.INFO)\n",
    "\n",
    "logging.debug(\"This is a debug message\")\n",
    "logging.info(\"This is an info message\")\n",
    "logging.warning(\"This is a warning\")\n",
    "logging.error(\"This is an error\")\n",
    "logging.critical(\"This is critical\")"
   ]
  },
  {
   "cell_type": "markdown",
   "id": "ef8bb122-0109-4dee-867e-02934a43fc87",
   "metadata": {},
   "source": [
    "-> KEY FEATURES:\n",
    "\n",
    "| Feature                 | Description                                   |\n",
    "| ----------------------- | --------------------------------------------- |\n",
    "| **Log Levels**          | DEBUG, INFO, WARNING, ERROR, CRITICAL         |\n",
    "| **Flexible Output**     | Console, file, email, etc.                    |\n",
    "| **Formatted Logs**      | Custom timestamps, log levels, and messages   |\n",
    "| **Log Filtering**       | Control what levels or sources get logged     |\n",
    "| **Thread/Process Safe** | Works reliably in multi-threaded applications |"
   ]
  },
  {
   "cell_type": "code",
   "execution_count": 146,
   "id": "73aa0b59-4ae9-461e-8dd1-18a843f8a61c",
   "metadata": {},
   "outputs": [
    {
     "name": "stderr",
     "output_type": "stream",
     "text": [
      "WARNING:root:This will be written to a log file.\n"
     ]
    }
   ],
   "source": [
    "#Logging to a File Example:\n",
    "\n",
    "logging.basicConfig(filename='app.log', level=logging.WARNING,\n",
    "                    format='%(asctime)s - %(levelname)s - %(message)s')\n",
    "\n",
    "logging.warning(\"This will be written to a log file.\")"
   ]
  },
  {
   "cell_type": "markdown",
   "id": "55756058-4b23-4f0b-b17c-474090addeeb",
   "metadata": {},
   "source": [
    "22.  What is the os module in Python used for in file handling?\n",
    "     -\n",
    "     The os module in Python is used to perform operating system-level tasks, especially related to file and directory handling. It helps you manage files, folders, and paths in a platform-independent way.\n",
    "\n",
    "-> Common Uses of os in File Handling:\n",
    "\n",
    "| **Purpose**                    | **Function**                  | **Description**                                 |\n",
    "| ------------------------------ | ----------------------------- | ----------------------------------------------- |\n",
    "| Check if file or folder exists | `os.path.exists(path)`        | Returns `True` if the path exists               |\n",
    "| Create a new directory         | `os.mkdir(path)`              | Creates a single directory                      |\n",
    "| Create nested directories      | `os.makedirs(path)`           | Creates directories recursively                 |\n",
    "| Delete a file                  | `os.remove(path)`             | Deletes the specified file                      |\n",
    "| Delete a directory             | `os.rmdir(path)`              | Removes an empty directory                      |\n",
    "| List directory contents        | `os.listdir(path)`            | Returns a list of files and folders in the path |\n",
    "| Rename a file or directory     | `os.rename(src, dst)`         | Renames or moves a file/directory               |\n",
    "| Join file paths safely         | `os.path.join(dir, filename)` | Joins paths in a way that's safe across OSes    |\n",
    "| Get current working directory  | `os.getcwd()`                 | Shows the current working directory             |\n",
    "| Change working directory       | `os.chdir(path)`              | Changes the current working directory           |\n",
    "| Get absolute file path         | `os.path.abspath(path)`       | Returns the full path of a file or folder       |\n",
    "\n",
    "-> Why Use the os Module?\n",
    " - Makes file operations OS-independent (Windows, Linux, macOS)\n",
    " - Allows for automation of file tasks (e.g., backups, cleanup)\n",
    " - Helps in writing robust and scalable programs"
   ]
  },
  {
   "cell_type": "code",
   "execution_count": null,
   "id": "8d665253-415d-4aa6-a5b0-c356f6f49681",
   "metadata": {},
   "outputs": [],
   "source": [
    "#Example: Creating and Listing a Directory\n",
    "\n",
    "import os\n",
    "\n",
    "# Create a new directory if it doesn't exist\n",
    "if not os.path.exists(\"logs\"):\n",
    "    os.mkdir(\"logs\")\n",
    "\n",
    "# List contents of the current directory\n",
    "print(os.listdir(\".\"))"
   ]
  },
  {
   "cell_type": "code",
   "execution_count": 213,
   "id": "be408043-759f-4ab5-a0da-8ea27c621a2b",
   "metadata": {},
   "outputs": [
    {
     "name": "stdout",
     "output_type": "stream",
     "text": [
      "This is some sample content.\n",
      "This is some sample content.\n"
     ]
    }
   ],
   "source": [
    "# EXAMPLE\n",
    "\n",
    "# Option 1: Create the file first if it doesn't exist\n",
    "with open(\"sample.txt\", \"w\") as file:\n",
    "    file.write(\"This is some sample content.\")\n",
    "\n",
    "# Then read the file\n",
    "with open(\"sample.txt\", \"r\") as file:\n",
    "    content = file.read()\n",
    "    print(content)\n",
    "\n",
    "# Option 2: Use a try-except block to handle the case when the file doesn't exist\n",
    "try:\n",
    "    with open(\"sample.txt\", \"r\") as file:\n",
    "        content = file.read()\n",
    "        print(content)\n",
    "except FileNotFoundError:\n",
    "    print(\"The file 'sample.txt' does not exist.\")"
   ]
  },
  {
   "cell_type": "markdown",
   "id": "47a1f21a-b077-4899-8875-413faa2de591",
   "metadata": {},
   "source": [
    "23. What are the challenges associated with memory management in Python?\n",
    "    -\n",
    "    Python has automatic memory management, but it’s not perfect. Developers can still face memory-related challenges, especially in large or long-running applications.\n",
    "\n",
    "-> Key Challenges in Memory Management:\n",
    "a. Memory Leaks\n",
    " - Cause: Objects that are no longer needed but still referenced (e.g., in global variables, caches, or containers).\n",
    " - Effect: The garbage collector won't free them, leading to increased memory usage over time.\n",
    "\n",
    "b. Circular References\n",
    " - Cause: Two or more objects referencing each other, forming a loop.\n",
    " - Example: A → B → A\n",
    " - Python’s garbage collector can detect some circular references, but not all are cleaned up immediately, especially if __del__() is defined.\n",
    "\n",
    "c. Inefficient Use of Data Structures\n",
    " - Using memory-heavy structures like lists or dictionaries when more efficient options (like generators, sets, or tuples)    would work better.\n",
    " - Leads to unnecessary memory consumption.\n",
    "\n",
    "d. Large Object Retention\n",
    " - Keeping large datasets (like big lists or NumPy arrays) in memory when they’re no longer needed.\n",
    " - Can cause out-of-memory (OOM) errors in data-intensive applications.\n",
    "\n",
    "e. Global Variables and Caches\n",
    " - Globals stay in memory for the lifetime of the program.\n",
    " - Improperly managed caches can grow without limit, leading to memory exhaustion.\n",
    "\n",
    "f. Garbage Collection Overhead\n",
    " - While Python’s garbage collector is automatic, it can still slow down performance if there are many objects to track or collect.\n",
    "\n",
    "g. Third-Party Libraries\n",
    " - Some libraries manage memory inefficiently or leak memory internally.\n",
    " - Example: GUI libraries or data processing tools not freeing up memory after use.\n",
    "\n",
    "-> Best Practices to Mitigate These Challenges:\n",
    " - Use generators instead of lists when possible.\n",
    " - Avoid unnecessary global variables.\n",
    " - Use tools like gc, objgraph, or tracemalloc for memory profiling.\n",
    " - Explicitly delete large objects using del when done.\n",
    " - Break circular references manually or avoid them.\n",
    " - Monitor memory usage with external tools (e.g., memory_profiler, psutil)."
   ]
  },
  {
   "cell_type": "markdown",
   "id": "9dc63f78-aee7-45f6-a3ad-f11847aa1177",
   "metadata": {},
   "source": [
    "24.  How do you raise an exception manually in Python?\n",
    "     -\n",
    "     In Python, you can manually raise an exception using the raise statement. This is useful when you want to signal that something has gone wrong based on custom conditions in your program."
   ]
  },
  {
   "cell_type": "code",
   "execution_count": null,
   "id": "2adaa77b-3216-4d22-9c55-f0b2b0781f52",
   "metadata": {},
   "outputs": [],
   "source": [
    "#Basic Syntax:\n",
    "raise ExceptionType(\"Error message\")\n",
    "\n",
    "#ExceptionType: Can be a built-in or custom exception class.\n",
    "#\"Error message\": Optional description of the error."
   ]
  },
  {
   "cell_type": "code",
   "execution_count": null,
   "id": "cee1a51b-9c50-4bfa-b90c-8bb210b73458",
   "metadata": {},
   "outputs": [],
   "source": [
    "#Example with a Built-in Exception:\n",
    "age = -5\n",
    "\n",
    "if age < 0:\n",
    "    raise ValueError(\"Age cannot be negative\")"
   ]
  },
  {
   "cell_type": "code",
   "execution_count": null,
   "id": "527c0717-fe8e-491b-b8df-b3255324fa9e",
   "metadata": {},
   "outputs": [],
   "source": [
    "ValueError: Age cannot be negative"
   ]
  },
  {
   "cell_type": "code",
   "execution_count": null,
   "id": "24a4ad17-519c-4e32-88be-920fa02ae0e6",
   "metadata": {},
   "outputs": [],
   "source": [
    "#Raising a Custom Exception:\n",
    "\n",
    "class MyCustomError(Exception):\n",
    "    pass\n",
    "\n",
    "raise MyCustomError(\"Something went wrong!\")"
   ]
  },
  {
   "cell_type": "code",
   "execution_count": null,
   "id": "8239af73-9871-4566-b2bf-a519bc3c1c2d",
   "metadata": {},
   "outputs": [],
   "source": [
    "#Using raise Without Arguments (Inside except Block):\n",
    "#Re-raises the current exception:\n",
    "\n",
    "try:\n",
    "    x = 1 / 0\n",
    "except ZeroDivisionError:\n",
    "    print(\"Caught a ZeroDivisionError\")\n",
    "    raise  # re-raises the same exception"
   ]
  },
  {
   "cell_type": "markdown",
   "id": "caaf8663-62d8-44de-8906-fa28f3be5e43",
   "metadata": {},
   "source": [
    "-> To raise an exception manually:\n",
    " - Use the raise keyword with a specific exception.\n",
    " - Use it to enforce rules, report errors, or stop execution when something unexpected happens.\n",
    " - You can raise both built-in and custom exceptions."
   ]
  },
  {
   "cell_type": "markdown",
   "id": "3f6707c4-c98e-49c0-9c69-2b1b21119f17",
   "metadata": {},
   "source": [
    "25.  Why is it important to use multithreading in certain applications?\n",
    "     -\n",
    "     Multithreading is important in certain applications because it allows concurrent execution of multiple tasks, leading to improved efficiency, responsiveness, and resource utilization — especially in I/O-bound programs.\n",
    "\n",
    "-> Key Reasons to Use Multithreading:\n",
    "a. Improves Responsiveness in User Interfaces\n",
    " - Keeps the main thread free to handle user input while background tasks (e.g., file downloads, data processing) run in      parallel.\n",
    " - Prevents freezing or lag in desktop or GUI applications.\n",
    "\n",
    "b. Handles I/O-Bound Operations Efficiently\n",
    " - Ideal for tasks like:\n",
    " - Reading/writing files\n",
    " - Making network requests (e.g., web scraping, APIs)\n",
    " - Waiting for database queries\n",
    " - While waiting for I/O, other threads can continue running.\n",
    "\n",
    "c. Allows Concurrent Execution\n",
    " - Threads can work on multiple parts of a task at the same time (e.g., downloading multiple files).\n",
    " - Improves throughput by overlapping tasks.\n",
    "\n",
    "d. Better Resource Utilization\n",
    " - Makes better use of CPU idle time during I/O operations.\n",
    " - Reduces waiting time in multi-step processes.\n",
    "\n",
    "e. Simplifies Asynchronous Logic\n",
    " - Threads can often be easier to manage than writing asynchronous callbacks or event loops, especially for legacy      codebases.\n",
    "\n",
    "-> Important Caveat (Python's GIL):\n",
    " - In CPython (the standard Python implementation), the Global Interpreter Lock (GIL) allows only one thread to execute       Python bytecode at a time.\n",
    " - This means:\n",
    "    - Multithreading does NOT speed up CPU-bound tasks (like heavy calculations).\n",
    "    - For CPU-bound tasks, use the multiprocessing module instead."
   ]
  },
  {
   "cell_type": "code",
   "execution_count": 24,
   "id": "ab4fa10d-4de2-4313-b932-3f6db0631ffc",
   "metadata": {},
   "outputs": [
    {
     "name": "stdout",
     "output_type": "stream",
     "text": [
      "https://www.python.org: 51034 bytes\n",
      "https://example.com: 1256 bytes\n"
     ]
    }
   ],
   "source": [
    "#Example: Web Scraping with Threadsython\n",
    "\n",
    "import threading\n",
    "import requests\n",
    "\n",
    "def fetch(url):\n",
    "    response = requests.get(url)\n",
    "    print(f\"{url}: {len(response.content)} bytes\")\n",
    "\n",
    "urls = ['https://example.com', 'https://www.python.org']\n",
    "\n",
    "threads = []\n",
    "for url in urls:\n",
    "    t = threading.Thread(target=fetch, args=(url,))\n",
    "    threads.append(t)\n",
    "    t.start()\n",
    "\n",
    "for t in threads:\n",
    "    t.join()"
   ]
  },
  {
   "cell_type": "markdown",
   "id": "8cc11295-b326-4034-a523-4148be1caeec",
   "metadata": {},
   "source": [
    "#PRACTICAL QUESTIONS:"
   ]
  },
  {
   "cell_type": "markdown",
   "id": "6184dcb8-9813-45b9-8f67-37b424196422",
   "metadata": {},
   "source": [
    "1. How can you open a file for writing in Python and write a string to it?\n",
    "   -\n",
    "   To open a file for writing in Python, use the built-in open() function with mode \"w\" and then call the .write() method to write a string to it."
   ]
  },
  {
   "cell_type": "code",
   "execution_count": 37,
   "id": "344bc53b-14ad-48b2-8a09-d6ca5e185b79",
   "metadata": {},
   "outputs": [],
   "source": [
    "#SYNTAX:\n",
    "\n",
    "with open(\"filename.txt\", \"w\") as file:\n",
    "    file.write(\"Your text here\")"
   ]
  },
  {
   "cell_type": "markdown",
   "id": "94e71b0f-5340-4024-b3b6-634f44b57dd1",
   "metadata": {},
   "source": [
    "-> Explanation:\n",
    " - \"filename.txt\": Name of the file to write to.\n",
    " - \"w\" mode: Opens the file for writing.\n",
    " - Creates the file if it doesn’t exist.\n",
    " - Overwrites the file if it already exists.\n",
    " - with statement: Ensures the file is automatically closed after writing."
   ]
  },
  {
   "cell_type": "code",
   "execution_count": 39,
   "id": "3c1c481b-4a06-48d5-8f98-c065b3e76027",
   "metadata": {},
   "outputs": [],
   "source": [
    "with open(\"output.txt\", \"w\") as file:\n",
    "    file.write(\"Hello, this is a test string.\")\n",
    "\n",
    "#This will create (or overwrite) a file named output.txt and write the string inside."
   ]
  },
  {
   "cell_type": "markdown",
   "id": "03530e29-ee13-425c-aa34-a73d66da9e92",
   "metadata": {},
   "source": [
    "-> To write a string to a file in Python:\n",
    " - Use open(filename, \"w\") to open the file in write mode.\n",
    " - Use file.write(\"your string\") to write data.\n",
    " - Prefer using the with block to ensure the file is closed automatically."
   ]
  },
  {
   "cell_type": "markdown",
   "id": "1d685f3f-4ec6-4810-92fd-67a26ad6f291",
   "metadata": {},
   "source": [
    "2.  Write a Python program to read the contents of a file and print each line.\n",
    "    -\n",
    "    To read a file line by line and print each line in Python, you can use the with statement along with a for loop. This approach is memory-efficient and ensures the file is properly closed after its suite finishes."
   ]
  },
  {
   "cell_type": "code",
   "execution_count": 43,
   "id": "1c59faed-805c-4ea6-b849-ca94af31c461",
   "metadata": {},
   "outputs": [
    {
     "name": "stdout",
     "output_type": "stream",
     "text": [
      "Your text here"
     ]
    }
   ],
   "source": [
    "with open(\"filename.txt\", \"r\") as file:\n",
    "    for line in file:\n",
    "        print(line, end='')"
   ]
  },
  {
   "cell_type": "markdown",
   "id": "540d4633-ae66-42eb-b484-4e8d2f096f70",
   "metadata": {},
   "source": [
    "-> Explanation:\n",
    " - open(\"filename.txt\", \"r\"): Opens the file named filename.txt in read mode.\n",
    " - with statement: Ensures that the file is automatically closed after the block of code is executed, even if an error occurs.\n",
    " - for line in file: Iterates over each line in the file.\n",
    " - print(line, end=''): Prints each line. The end='' parameter prevents adding an extra newline since lines read from the file already contain newline characters.\n",
    "\n",
    "-> Note:\n",
    " - Replace \"filename.txt\" with the path to your actual file.\n",
    " - This method is efficient for large files as it reads one line at a time without loading the entire file into memory."
   ]
  },
  {
   "cell_type": "markdown",
   "id": "9b0e5427-6381-4137-b563-b5e0387f479a",
   "metadata": {},
   "source": [
    "3.  How would you handle a case where the file doesn't exist while trying to open it for reading?\n",
    "    -\n",
    "    When attempting to open a file for reading in Python, it's important to handle scenarios where the file may not exist to prevent your program from crashing. This can be achieved using exception handling mechanisms.\n",
    "\n",
    "-> Using try-except Block\n",
    " - You can use a try-except block to catch the FileNotFoundError exception:    "
   ]
  },
  {
   "cell_type": "code",
   "execution_count": 50,
   "id": "77e781cc-e306-4e84-b2dd-30b54e06d4e9",
   "metadata": {},
   "outputs": [
    {
     "name": "stdout",
     "output_type": "stream",
     "text": [
      "Hello, Python file handling!\n"
     ]
    }
   ],
   "source": [
    "try:\n",
    "    with open(\"example.txt\", \"r\") as file:\n",
    "        content = file.read()\n",
    "        print(content)\n",
    "except FileNotFoundError:\n",
    "    print(\"Error: The file 'example.txt' was not found.\")\n",
    "\n",
    "\n",
    "#Explanation:\n",
    "\n",
    "#try: Attempt to open and read the file.\n",
    "#except FileNotFoundError: If the file doesn't exist, this block will execute, allowing you to handle the error gracefully."
   ]
  },
  {
   "cell_type": "markdown",
   "id": "442df757-c9c9-4505-bb09-8f2b84074e4f",
   "metadata": {},
   "source": [
    "-> Checking File Existence Before Opening\n",
    " - Alternatively, you can check if the file exists before attempting to open it using the os.path.exists() function:"
   ]
  },
  {
   "cell_type": "code",
   "execution_count": 53,
   "id": "d687b89d-8d1e-4a5e-9a38-51b26bd0c01f",
   "metadata": {},
   "outputs": [
    {
     "name": "stdout",
     "output_type": "stream",
     "text": [
      "Hello, Python file handling!\n"
     ]
    }
   ],
   "source": [
    "import os\n",
    "\n",
    "file_path = \"example.txt\"\n",
    "\n",
    "if os.path.exists(file_path):\n",
    "    with open(file_path, \"r\") as file:\n",
    "        content = file.read()\n",
    "        print(content)\n",
    "else:\n",
    "    print(f\"Error: The file '{file_path}' does not exist.\")\n",
    "\n",
    "\n",
    "#Explanation:\n",
    "\n",
    "#os.path.exists(file_path): Returns True if the file exists, False otherwise.\n",
    "#This method allows you to check for the file's existence before attempting to open it, thus avoiding exceptions."
   ]
  },
  {
   "cell_type": "markdown",
   "id": "53aca232-587e-472b-9e3c-9089693484e2",
   "metadata": {},
   "source": [
    " -> Using pathlib Module\n",
    " - The pathlib module provides an object-oriented approach to handle filesystem paths:"
   ]
  },
  {
   "cell_type": "code",
   "execution_count": 56,
   "id": "f2ade10a-6f58-48e4-bd27-6bd972f0b830",
   "metadata": {},
   "outputs": [
    {
     "name": "stdout",
     "output_type": "stream",
     "text": [
      "Hello, Python file handling!\n"
     ]
    }
   ],
   "source": [
    "from pathlib import Path\n",
    "\n",
    "file_path = Path(\"example.txt\")\n",
    "\n",
    "if file_path.is_file():\n",
    "    with file_path.open(\"r\") as file:\n",
    "        content = file.read()\n",
    "        print(content)\n",
    "else:\n",
    "    print(f\"Error: The file '{file_path}' does not exist.\")\n",
    "\n",
    "#Explanation:\n",
    "\n",
    "#Path(\"example.txt\"): Creates a Path object for the specified file.\n",
    "#file_path.is_file(): Checks if the path points to an existing file.\n",
    "#file_path.open(\"r\"): Opens the file in read mode."
   ]
  },
  {
   "cell_type": "markdown",
   "id": "6325cbd4-98ed-4299-bf62-2df99078beba",
   "metadata": {},
   "source": [
    "4. Write a Python script that reads from one file and writes its content to another file.\n",
    "   -\n",
    "   "
   ]
  },
  {
   "cell_type": "code",
   "execution_count": null,
   "id": "2c2159c5-80ed-413f-b972-f9b03f73bbe2",
   "metadata": {},
   "outputs": [],
   "source": [
    "# Define source and destination file paths\n",
    "source_file = \"source.txt\"\n",
    "destination_file = \"destination.txt\"\n",
    "\n",
    "try:\n",
    "    # Open the source file in read mode and destination file in write mode\n",
    "    with open(source_file, \"r\") as src, open(destination_file, \"w\") as dest:\n",
    "        # Read each line from the source file and write it to the destination file\n",
    "        for line in src:\n",
    "            dest.write(line)\n",
    "    print(f\"Contents of '{source_file}' have been copied to '{destination_file}'.\")\n",
    "except FileNotFoundError:\n",
    "    print(f\"Error: The file '{source_file}' does not exist.\")\n",
    "except IOError as e:\n",
    "    print(f\"An I/O error occurred: {e}\")"
   ]
  },
  {
   "cell_type": "markdown",
   "id": "7ce03d67-f11a-485c-be42-b80a8d8c6d66",
   "metadata": {},
   "source": [
    "-> Explanation:\n",
    " - open(source_file, \"r\"): Opens the source file in read mode.\n",
    " - open(destination_file, \"w\"): Opens the destination file in write mode. If the file doesn't exist, it will be created.      If it does exist, its contents will be overwritten.\n",
    " - for line in src: Iterates over each line in the source file.\n",
    " - dest.write(line): Writes each line to the destination file.\n",
    " - try-except blocks handle potential errors, such as the source file not existing or other I/O errors.\n",
    "\n",
    "-> Note:\n",
    "\n",
    " - Ensure that source.txt exists in the same directory as your script or provide the correct path to the file.\n",
    " - This script reads and writes the file line by line, which is memory-efficient and suitable for large files.\n",
    " - For more information on file handling in Python, you can refer to the official Python documentation:\n",
    " - Python 3 File Handling"
   ]
  },
  {
   "cell_type": "markdown",
   "id": "579e7e16-70b1-409e-bef0-58a3158b07ab",
   "metadata": {},
   "source": [
    "5. How would you catch and handle division by zero error in Python?\n",
    "   -\n",
    "   In Python, attempting to divide a number by zero raises a ZeroDivisionError. To handle this gracefully and prevent your program from crashing, you can use a try-except block."
   ]
  },
  {
   "cell_type": "code",
   "execution_count": 64,
   "id": "66d5b194-0c7a-4fab-b880-93b805dd4221",
   "metadata": {},
   "outputs": [
    {
     "name": "stdout",
     "output_type": "stream",
     "text": [
      "Error: Cannot divide by zero.\n"
     ]
    }
   ],
   "source": [
    "try:\n",
    "    numerator = 10\n",
    "    denominator = 0\n",
    "    result = numerator / denominator\n",
    "    print(f\"Result: {result}\")\n",
    "except ZeroDivisionError:\n",
    "    print(\"Error: Cannot divide by zero.\")\n",
    "\n",
    "#Explanation:\n",
    "#The try block contains code that might raise an exception.\n",
    "#If a ZeroDivisionError occurs (i.e., division by zero), the except block is executed, allowing you to handle the error appropriately."
   ]
  },
  {
   "cell_type": "markdown",
   "id": "84aab717-02a3-49f2-aaa8-460f7b46a4a9",
   "metadata": {},
   "source": [
    "-> Handling User Input:\n",
    "When dealing with user input, it's essential to validate the denominator before performing the division:"
   ]
  },
  {
   "cell_type": "code",
   "execution_count": 67,
   "id": "9674eb00-cd09-4efd-a844-913fded52b5e",
   "metadata": {},
   "outputs": [
    {
     "name": "stdin",
     "output_type": "stream",
     "text": [
      "Enter numerator:  67\n",
      "Enter denominator:  2\n"
     ]
    },
    {
     "name": "stdout",
     "output_type": "stream",
     "text": [
      "Result: 33.5\n"
     ]
    }
   ],
   "source": [
    "try:\n",
    "    numerator = float(input(\"Enter numerator: \"))\n",
    "    denominator = float(input(\"Enter denominator: \"))\n",
    "    result = numerator / denominator\n",
    "    print(f\"Result: {result}\")\n",
    "except ZeroDivisionError:\n",
    "    print(\"Error: Division by zero is not allowed.\")\n",
    "except ValueError:\n",
    "    print(\"Error: Please enter valid numbers.\")\n",
    "\n",
    "#Explanation:\n",
    "#This script prompts the user for input and attempts to perform the division.\n",
    "#It handles both ZeroDivisionError and ValueError (in case the user enters non-numeric values)."
   ]
  },
  {
   "cell_type": "markdown",
   "id": "90d943a8-b914-474e-8c9c-7837c9ab3fde",
   "metadata": {},
   "source": [
    "-> Using a Loop for Repeated Attempts:\n",
    "To continuously prompt the user until a valid denominator is provided:"
   ]
  },
  {
   "cell_type": "code",
   "execution_count": 70,
   "id": "f27234b1-78c3-4910-b300-83d758b4d3e3",
   "metadata": {},
   "outputs": [
    {
     "name": "stdin",
     "output_type": "stream",
     "text": [
      "Enter numerator:  93\n",
      "Enter denominator:  22\n"
     ]
    },
    {
     "name": "stdout",
     "output_type": "stream",
     "text": [
      "Result: 4.2272727272727275\n"
     ]
    }
   ],
   "source": [
    "while True:\n",
    "    try:\n",
    "        numerator = float(input(\"Enter numerator: \"))\n",
    "        denominator = float(input(\"Enter denominator: \"))\n",
    "        result = numerator / denominator\n",
    "        print(f\"Result: {result}\")\n",
    "        break  # Exit loop if division is successful\n",
    "    except ZeroDivisionError:\n",
    "        print(\"Error: Denominator cannot be zero. Please try again.\")\n",
    "    except ValueError:\n",
    "        print(\"Error: Invalid input. Please enter numeric values.\")\n",
    "\n",
    "#Explanation:\n",
    "#The loop continues to prompt the user until a valid division is performed.\n",
    "#It ensures robust handling of both zero and non-numeric inputs"
   ]
  },
  {
   "cell_type": "markdown",
   "id": "ba0e9ba5-50cb-430d-9546-5882884e5a4e",
   "metadata": {},
   "source": [
    "-> Summary:\n",
    " - Use try-except blocks to catch and handle ZeroDivisionError exceptions.\n",
    " - Validate user input to prevent invalid operations.\n",
    " - Implement loops to allow users to correct their input without crashing the program."
   ]
  },
  {
   "cell_type": "markdown",
   "id": "0b0b492c-5ff3-456c-8f38-6f0b7470fe2e",
   "metadata": {},
   "source": [
    "6.  Write a Python program that logs an error message to a log file when a division by zero exception occurs.\n",
    "    -\n",
    "    To log a ZeroDivisionError to a file in Python, you can utilize the built-in logging module. This approach captures the error message along with the stack trace, aiding in debugging and monitoring your application's behavior."
   ]
  },
  {
   "cell_type": "code",
   "execution_count": 76,
   "id": "845c993a-9211-4ded-8815-696384d99d9d",
   "metadata": {},
   "outputs": [],
   "source": [
    "import logging\n",
    "\n",
    "# Configure logging to write to a file with a specific format\n",
    "logging.basicConfig(\n",
    "    filename='error.log',  # Log file name\n",
    "    level=logging.ERROR,   # Log level\n",
    "    format='%(asctime)s - %(levelname)s - %(message)s'  # Log format\n",
    ")\n",
    "\n",
    "try:\n",
    "    # Code that may raise a ZeroDivisionError\n",
    "    numerator = 10\n",
    "    denominator = 0\n",
    "    result = numerator / denominator\n",
    "except ZeroDivisionError:\n",
    "    # Log the exception with traceback\n",
    "    logging.exception(\"Attempted to divide by zero.\")"
   ]
  },
  {
   "cell_type": "markdown",
   "id": "a102c0dc-b96b-4665-b504-b8376c5a3e85",
   "metadata": {},
   "source": [
    "-> Explanation:\n",
    "\n",
    " - import logging: Imports the logging module to enable logging functionality.\n",
    " - logging.basicConfig(...): Configures the logging system:\n",
    " - filename='error.log': Specifies the log file's name.\n",
    " - level=logging.ERROR: Sets the logging level to capture error messages and above.\n",
    " - format='%(asctime)s - %(levelname)s - %(message)s': Defines the log message format, including the timestamp, log level, and message.\n",
    " - try...except ZeroDivisionError: Attempts to execute code that may raise a ZeroDivisionError and handles it if it occurs.\n",
    " - logging.exception(\"...\"): Logs the exception with a message and includes the stack trace, providing detailed context for debugging."
   ]
  },
  {
   "cell_type": "code",
   "execution_count": null,
   "id": "66a5a5c3-2fc7-4e65-a36d-26958661806b",
   "metadata": {},
   "outputs": [],
   "source": [
    "#Sample output:-\n",
    "\n",
    "2025-05-13 23:42:38,123 - ERROR - Attempted to divide by zero.\n",
    "Traceback (most recent call last):\n",
    "  File \"your_script.py\", line 9, in <module>\n",
    "    result = numerator / denominator\n",
    "ZeroDivisionError: division by zero\n",
    "\n",
    "#This log entry includes the timestamp, error level, custom message, and the full traceback, which is invaluable for diagnosing issues."
   ]
  },
  {
   "cell_type": "markdown",
   "id": "80daffd0-80e6-4fb6-a358-2aeb1e8a2a44",
   "metadata": {},
   "source": [
    "7. How do you log information at different levels (INFO, ERROR, WARNING) in Python using the logging module?\n",
    "   -\n",
    "   In Python, the built-in logging module provides a flexible framework for emitting log messages from your applications. It allows you to categorize log messages by severity levels, making it easier to filter and manage output.\n",
    "\n",
    " - Common Logging Levels:\n",
    "The logging module defines several standard log levels, each associated with a numeric value indicating its severity:\n",
    "\n",
    "| Level      | Numeric Value | Description                                                                                                                                    |                                                             |\n",
    "| ---------- | ------------- | ---------------------------------------------------------------------------------------------------------------------------------------------- | ----------------------------------------------------------- |\n",
    "| `DEBUG`    | 10            | Detailed information, typically of interest only when diagnosing problems.                                                                     |                                                             |\n",
    "| `INFO`     | 20            | Confirmation that things are working as expected.                                                                                              |                                                             |\n",
    "| `WARNING`  | 30            | An indication that something unexpected happened, or indicative of some problem in the near future. The software is still working as expected. |                                                             |\n",
    "| `ERROR`    | 40            | Due to a more serious problem, the software has not been able to perform some function.                                                        |                                                             |\n",
    "| `CRITICAL` | 50            | A serious error, indicating that the program itself may be unable to continue running.                                                         \n",
    "\n",
    "By default, the logging system is configured to log messages with a severity level of WARNING or above. This means that DEBUG and INFO messages are not displayed unless the logging level is set lower.\n"
   ]
  },
  {
   "cell_type": "markdown",
   "id": "814e1c53-a8f7-4470-aec1-6e9d2b8c1146",
   "metadata": {},
   "source": [
    "-> Basic Logging Configuration\n",
    "To log messages at different severity levels, you can configure the logging system using basicConfig() and then use the appropriate logging methods:"
   ]
  },
  {
   "cell_type": "code",
   "execution_count": 84,
   "id": "9b6822b2-2e30-487b-a5fa-9a1695a467b6",
   "metadata": {},
   "outputs": [],
   "source": [
    "import logging\n",
    "\n",
    "# Configure logging to display messages with level INFO and above\n",
    "logging.basicConfig(level=logging.INFO)\n",
    "\n",
    "# Log messages at various severity levels\n",
    "logging.debug(\"This is a DEBUG message.\")\n",
    "logging.info(\"This is an INFO message.\")\n",
    "logging.warning(\"This is a WARNING message.\")\n",
    "logging.error(\"This is an ERROR message.\")\n",
    "logging.critical(\"This is a CRITICAL message.\")\n",
    "\n",
    "#In this example, setting the logging level to INFO means that messages with levels INFO, WARNING, ERROR, and CRITICAL will be displayed, while DEBUG messages will be suppressed."
   ]
  },
  {
   "cell_type": "markdown",
   "id": "4a58607b-383f-40d3-b4ea-da2b98bb359a",
   "metadata": {},
   "source": [
    "-> Logging to a File\n",
    "To direct log messages to a file instead of the console, specify the filename parameter in basicConfig():"
   ]
  },
  {
   "cell_type": "code",
   "execution_count": 86,
   "id": "97779038-0c9b-4728-afb6-943c0c05f79d",
   "metadata": {},
   "outputs": [],
   "source": [
    "import logging\n",
    "\n",
    "# Configure logging to write messages to a file\n",
    "logging.basicConfig(\n",
    "    filename='app.log',\n",
    "    level=logging.DEBUG,\n",
    "    format='%(asctime)s - %(levelname)s - %(message)s'\n",
    ")\n",
    "\n",
    "# Log messages at various severity levels\n",
    "logging.debug(\"Debugging information.\")\n",
    "logging.info(\"Informational message.\")\n",
    "logging.warning(\"Warning: Something unexpected happened.\")\n",
    "logging.error(\"Error encountered during execution.\")\n",
    "logging.critical(\"Critical error: Application may not recover.\")\n",
    "\n",
    "#This configuration writes all messages with level DEBUG and above to the file app.log, including timestamps, severity levels, and messages."
   ]
  },
  {
   "cell_type": "markdown",
   "id": "c2c8e731-e67a-4f50-8ec3-a3a0d0ba5bfa",
   "metadata": {},
   "source": [
    "-> Using Named Loggers\n",
    "For larger applications, it's beneficial to create named loggers using getLogger(). This allows for more granular control over logging behavior across different modules:"
   ]
  },
  {
   "cell_type": "code",
   "execution_count": 88,
   "id": "26553595-7953-4240-aa8c-df02868eb8c6",
   "metadata": {},
   "outputs": [
    {
     "name": "stderr",
     "output_type": "stream",
     "text": [
      "my_app_logger - INFO - Application started.\n",
      "my_app_logger - WARNING - An unexpected event occurred.\n",
      "my_app_logger - ERROR - An error has been detected.\n"
     ]
    }
   ],
   "source": [
    "import logging\n",
    "\n",
    "# Create a named logger\n",
    "logger = logging.getLogger('my_app_logger')\n",
    "logger.setLevel(logging.INFO)\n",
    "\n",
    "# Create a console handler and set its level\n",
    "console_handler = logging.StreamHandler()\n",
    "console_handler.setLevel(logging.INFO)\n",
    "\n",
    "# Create a formatter and set it for the handler\n",
    "formatter = logging.Formatter('%(name)s - %(levelname)s - %(message)s')\n",
    "console_handler.setFormatter(formatter)\n",
    "\n",
    "# Add the handler to the logger\n",
    "logger.addHandler(console_handler)\n",
    "\n",
    "# Log messages using the named logger\n",
    "logger.info(\"Application started.\")\n",
    "logger.warning(\"An unexpected event occurred.\")\n",
    "logger.error(\"An error has been detected.\")\n",
    "\n",
    "#This approach provides flexibility in managing logging output, such as directing logs to different destinations or applying different formatting, based on the logger's name."
   ]
  },
  {
   "cell_type": "markdown",
   "id": "dee92623-e96f-4ebb-986e-afbbb3c05206",
   "metadata": {},
   "source": [
    "8. Write a program to handle a file opening error using exception handling.\n",
    "   -\n",
    "   In Python, attempting to open a file that doesn't exist or is inaccessible can raise exceptions like FileNotFoundError or PermissionError. To handle such situations gracefully, you can use a try-except block."
   ]
  },
  {
   "cell_type": "code",
   "execution_count": 91,
   "id": "ce65c636-89b1-4748-8a7d-126639e47215",
   "metadata": {},
   "outputs": [
    {
     "name": "stdout",
     "output_type": "stream",
     "text": [
      "Safe and clean!\n"
     ]
    }
   ],
   "source": [
    "#EXAMPLE\n",
    "\n",
    "try:\n",
    "    with open(\"data.txt\", \"r\") as file:\n",
    "        content = file.read()\n",
    "        print(content)\n",
    "except FileNotFoundError:\n",
    "    print(\"Error: The file 'data.txt' was not found.\")\n",
    "except PermissionError:\n",
    "    print(\"Error: You do not have permission to read 'data.txt'.\")\n",
    "except Exception as e:\n",
    "    print(f\"An unexpected error occurred: {e}\")"
   ]
  },
  {
   "cell_type": "markdown",
   "id": "019d9339-a47d-4fbd-a33d-b7dc456b9d7f",
   "metadata": {},
   "source": [
    "-> Explanation:\n",
    "\n",
    " - try Block: Attempts to open and read the file data.txt. If successful, it prints the content.\n",
    " - FileNotFoundError: Catches the error if the file does not exist at the specified path.\n",
    " - PermissionError: Handles cases where the file exists but the program lacks the necessary permissions to read it.\n",
    " - Exception: Catches any other unexpected errors, providing the error message for debugging.\n",
    "\n",
    "-> Best Practices:\n",
    " - Use with Statement: Employing the with statement ensures that the file is properly closed after its suite finishes,        even if an exception is raised.\n",
    " - Specific Exception Handling: Catching specific exceptions like FileNotFoundError and PermissionError allows for more       precise error messages and handling.\n",
    " - Generic Exception Handling: The generic Exception class can catch any other exceptions, providing a fallback mechanism."
   ]
  },
  {
   "cell_type": "markdown",
   "id": "0e4b49d1-a10b-4a59-8ef4-a5d9cf960f2f",
   "metadata": {},
   "source": [
    "9. How can you read a file line by line and store its content in a list in Python?\n",
    "   -\n",
    "   a. Method 1: Using readlines()\n",
    "The readlines() method reads all lines from a file and returns them as a list of strings, including newline characters (\\n)."
   ]
  },
  {
   "cell_type": "code",
   "execution_count": null,
   "id": "ed55744e-a036-4592-9a7f-33273257cc8c",
   "metadata": {},
   "outputs": [],
   "source": [
    "with open(\"example.txt\", \"r\") as file:\n",
    "    lines = file.readlines()\n",
    "\n",
    "# Remove trailing newline characters\n",
    "lines = [line.strip() for line in lines]\n",
    "print(lines)\n",
    "\n",
    "#This approach is straightforward but may consume more memory for large files."
   ]
  },
  {
   "cell_type": "markdown",
   "id": "25bd6372-8a37-4444-ac37-5213d6fe9fc5",
   "metadata": {},
   "source": [
    "b. Method 2: Using a for Loop\n",
    "Iterating over the file object directly is memory-efficient, especially for large files, as it reads one line at a time."
   ]
  },
  {
   "cell_type": "code",
   "execution_count": null,
   "id": "cd7fff4a-48f9-4030-9872-3a7830650b77",
   "metadata": {},
   "outputs": [],
   "source": [
    "lines = []\n",
    "with open(\"example.txt\", \"r\") as file:\n",
    "    for line in file:\n",
    "        lines.append(line.strip())\n",
    "\n",
    "print(lines)\n",
    "#This method is efficient and commonly used for processing files line by line."
   ]
  },
  {
   "cell_type": "markdown",
   "id": "2f6ce6ee-743f-40af-a8e5-0b0782f9c0a5",
   "metadata": {},
   "source": [
    "c. Method 3: Using List Comprehension\n",
    "List comprehension provides a concise way to read and process lines in a file."
   ]
  },
  {
   "cell_type": "code",
   "execution_count": null,
   "id": "47a516c0-85a4-435d-ae22-3664c7d683e5",
   "metadata": {},
   "outputs": [],
   "source": [
    "with open(\"example.txt\", \"r\") as file:\n",
    "    lines = [line.strip() for line in file]\n",
    "\n",
    "print(lines)\n",
    "\n",
    "#This method is both readable and efficient for most use cases."
   ]
  },
  {
   "cell_type": "markdown",
   "id": "476c7199-a314-4183-a152-1091ce479773",
   "metadata": {},
   "source": [
    "d. Method 4: Using file.readlines() with strip()\n",
    "You can combine readlines() with strip() to remove newline characters in one step"
   ]
  },
  {
   "cell_type": "code",
   "execution_count": null,
   "id": "57001627-6bbf-40c0-b752-d7cec78c8188",
   "metadata": {},
   "outputs": [],
   "source": [
    "with open(\"example.txt\", \"r\") as file:\n",
    "    lines = [line.strip() for line in file.readlines()]\n",
    "\n",
    "print(lines)\n",
    "\n",
    "#This approach is simple but may not be as memory-efficient as the for loop method for large files."
   ]
  },
  {
   "cell_type": "markdown",
   "id": "7f9e1060-1dba-405a-a185-c4163ac309c6",
   "metadata": {},
   "source": [
    "10. How can you append data to an existing file in Python?\n",
    "    -\n",
    "    To append data to an existing file in Python, you can open the file in append mode using the open() function with the 'a' mode. This mode allows you to add new content to the end of the file without overwriting existing data.\n",
    "\n",
    "Example: Appending Text to a File"
   ]
  },
  {
   "cell_type": "code",
   "execution_count": 105,
   "id": "a6064346-a7f9-466d-8dc6-a98a888f75ee",
   "metadata": {},
   "outputs": [],
   "source": [
    "# Open the file in append mode\n",
    "with open(\"example.txt\", \"a\") as file:\n",
    "    # Write new data to the end of the file\n",
    "    file.write(\"This is a new line of text.\\n\")\n",
    "\n",
    "#In this example, if example.txt does not exist, Python will create it. Each time you run this code, the specified text will be added to the end of the file."
   ]
  },
  {
   "cell_type": "markdown",
   "id": "5763f395-9311-46cf-b4c2-dd4f41be5461",
   "metadata": {},
   "source": [
    "-> Appending Multiple Lines\n",
    "To append multiple lines, you can use the writelines() method with a list of strings, each ending with a newline character:"
   ]
  },
  {
   "cell_type": "code",
   "execution_count": 108,
   "id": "1310540a-b2dc-4efe-8844-fdb03476709c",
   "metadata": {},
   "outputs": [],
   "source": [
    "lines_to_append = [\"First new line.\\n\", \"Second new line.\\n\"]\n",
    "\n",
    "with open(\"example.txt\", \"a\") as file:\n",
    "    file.writelines(lines_to_append)\n",
    "\n",
    "#This approach appends each string in the list to the file sequentially"
   ]
  },
  {
   "cell_type": "markdown",
   "id": "2e485f1f-0e21-4f7d-9b65-8c156796d337",
   "metadata": {},
   "source": [
    " - Append Mode ('a'): Opens the file for writing; the file pointer is at the end of the file if it exists. If the file        does not exist, it creates a new one.\n",
    "\n",
    " - Append and Read Mode ('a+'): Opens the file for both appending and reading. The file pointer is at the end of the file.    If the file does not exist, it creates a new one.\n",
    "\n",
    " - Using with Statement: Employing the with statement ensures that the file is properly closed after its suite finishes,      even if an exception is raised."
   ]
  },
  {
   "cell_type": "markdown",
   "id": "44c35cc8-66db-42f0-bda7-0cb16864fed2",
   "metadata": {},
   "source": [
    "11. Write a Python program that uses a try-except block to handle an error when attempting to access a  dictionary key that doesn't exist."
   ]
  },
  {
   "cell_type": "code",
   "execution_count": 112,
   "id": "8807bf03-e73f-4840-8d67-8fcdbe925a1d",
   "metadata": {},
   "outputs": [
    {
     "name": "stdout",
     "output_type": "stream",
     "text": [
      "KeyError: The key 'salary' does not exist in the dictionary.\n"
     ]
    }
   ],
   "source": [
    "# Define a dictionary with some key-value pairs\n",
    "employee = {\n",
    "    'name': 'John Doe',\n",
    "    'position': 'Software Engineer',\n",
    "    'department': 'IT'\n",
    "}\n",
    "\n",
    "# Attempt to access a key that may not exist\n",
    "try:\n",
    "    salary = employee['salary']\n",
    "    print(f\"Salary: {salary}\")\n",
    "except KeyError as e:\n",
    "    print(f\"KeyError: The key '{e.args[0]}' does not exist in the dictionary.\")\n",
    "\n",
    "#Explanation:\n",
    "\n",
    "   #The employee dictionary contains keys like 'name', 'position', and 'department'.\n",
    "   #The program attempts to access the 'salary' key, which doesn't exist in the dictionary.\n",
    "   #This raises a KeyError, which is then caught by the except block.\n",
    "   #The error message specifies which key was not found, aiding in debugging."
   ]
  },
  {
   "cell_type": "markdown",
   "id": "020f19c7-1e3f-447f-9773-8bc3bbe1205c",
   "metadata": {},
   "source": [
    "-> Alternative Approaches:\n",
    "\n",
    "a. Using the get() Method:\n",
    "The get() method returns the value for a specified key if the key is in the dictionary; otherwise, it returns None (or a specified default value)."
   ]
  },
  {
   "cell_type": "code",
   "execution_count": 115,
   "id": "61d9863f-1a5b-4427-9d8a-ade8153a9f77",
   "metadata": {},
   "outputs": [
    {
     "name": "stdout",
     "output_type": "stream",
     "text": [
      "Salary: Not Available\n"
     ]
    }
   ],
   "source": [
    "salary = employee.get('salary', 'Not Available')\n",
    "print(f\"Salary: {salary}\")"
   ]
  },
  {
   "cell_type": "markdown",
   "id": "69f9101a-b13f-447c-8e3c-8444f1b95676",
   "metadata": {},
   "source": [
    ":contentReference[oaicite:24]{index=24}\n",
    "\n",
    "   This approach avoids raising an exception and provides a default value when the key is missing.\n",
    "\n",
    "b. **Checking for Key Existence:**\n",
    "\n",
    "   Before accessing a key, you can check if it exists in the dictionary using the `in` keyword."
   ]
  },
  {
   "cell_type": "code",
   "execution_count": 125,
   "id": "17207373-a57d-4389-8c07-f238168cb317",
   "metadata": {},
   "outputs": [
    {
     "name": "stdout",
     "output_type": "stream",
     "text": [
      "Salary information is not available.\n"
     ]
    }
   ],
   "source": [
    "if 'salary' in employee:\n",
    "    print(f\"Salary: {employee['salary']}\")\n",
    "else:\n",
    "    print(\"Salary information is not available.\")"
   ]
  },
  {
   "cell_type": "markdown",
   "id": "89a94897-4cae-4559-a4e6-9c3d696d82fe",
   "metadata": {},
   "source": [
    "This method is useful when you need to perform different actions based on the presence or absence of a key.\n",
    "\n",
    "-> Conclusion:\n",
    "Handling KeyError exceptions is essential when working with dictionaries in Python. Using try-except blocks allows your program to continue running smoothly even when encountering missing keys. Alternatively, methods like get() or checking key existence can prevent exceptions altogether. Choose the approach that best fits your specific use case."
   ]
  },
  {
   "cell_type": "markdown",
   "id": "8d1409a0-85bc-40d1-a926-8ce6e8e9aac1",
   "metadata": {},
   "source": [
    "12. Write a program that demonstrates using multiple except blocks to handle different types of exceptions.\n",
    "    -\n",
    "    "
   ]
  },
  {
   "cell_type": "code",
   "execution_count": 129,
   "id": "2532d08c-bea8-491c-b40f-be2b0acb5379",
   "metadata": {},
   "outputs": [
    {
     "name": "stdout",
     "output_type": "stream",
     "text": [
      "File content: Safe and clean!\n",
      "Error: Cannot divide by zero.\n"
     ]
    }
   ],
   "source": [
    "try:\n",
    "    # Attempt to open a file that may not exist\n",
    "    with open(\"data.txt\", \"r\") as file:\n",
    "        content = file.read()\n",
    "        print(\"File content:\", content)\n",
    "\n",
    "    # Attempt to perform a division operation\n",
    "    numerator = 10\n",
    "    denominator = 0\n",
    "    result = numerator / denominator\n",
    "    print(\"Division result:\", result)\n",
    "\n",
    "    # Attempt to access a key in a dictionary\n",
    "    data = {\"name\": \"Alice\", \"age\": 30}\n",
    "    print(\"Address:\", data[\"address\"])\n",
    "\n",
    "except FileNotFoundError:\n",
    "    print(\"Error: The file was not found.\")\n",
    "\n",
    "except ZeroDivisionError:\n",
    "    print(\"Error: Cannot divide by zero.\")\n",
    "\n",
    "except KeyError as e:\n",
    "    print(f\"Error: The key '{e.args[0]}' does not exist in the dictionary.\")\n",
    "\n",
    "except Exception as e:\n",
    "    print(f\"An unexpected error occurred: {e}\")"
   ]
  },
  {
   "cell_type": "markdown",
   "id": "af21c673-8b38-435f-b66f-78a1d89aac57",
   "metadata": {},
   "source": [
    "-> Explanation:\n",
    "\n",
    " - FileNotFoundError: This exception is raised when the program attempts to open a file that does not exist.\n",
    " - ZeroDivisionError: This exception occurs when a division by zero is attempted.\n",
    " - KeyError: This exception is raised when trying to access a dictionary key that doesn't exist.\n",
    " - Exception: This is a catch-all for any other exceptions that are not specifically handled above."
   ]
  },
  {
   "cell_type": "code",
   "execution_count": null,
   "id": "c67e6b8a-379f-4620-beb3-ff8f46f5009d",
   "metadata": {},
   "outputs": [],
   "source": [
    "#If data.txt does not exist, the output will be:\n",
    "\n",
    "Error: The file was not found."
   ]
  },
  {
   "cell_type": "code",
   "execution_count": null,
   "id": "9882cd00-a488-4949-b6aa-2715d6409c6d",
   "metadata": {},
   "outputs": [],
   "source": [
    "#If data.txt exists but the division by zero occurs, the output will be:\n",
    "\n",
    "\n",
    "File content: [contents of data.txt]\n",
    "Error: Cannot divide by zero."
   ]
  },
  {
   "cell_type": "code",
   "execution_count": null,
   "id": "ef8e9d20-9583-41f0-b96e-41ad783603e6",
   "metadata": {},
   "outputs": [],
   "source": [
    "#If both the file exists and the division is successful, but the key 'address' is missing, the output will be:\n",
    "\n",
    "\n",
    "File content: [contents of data.txt]\n",
    "Division result: [result of division]\n",
    "Error: The key 'address' does not exist in the dictionary."
   ]
  },
  {
   "cell_type": "markdown",
   "id": "c2c4a0e7-ced2-4a70-83a8-5b6ccf6dba8a",
   "metadata": {},
   "source": [
    "This program demonstrates how multiple except blocks can be used to handle different exceptions that may arise during program execution."
   ]
  },
  {
   "cell_type": "markdown",
   "id": "8fd64990-f342-420c-81e6-a3588d3f113d",
   "metadata": {},
   "source": [
    "13. How would you check if a file exists before attempting to read it in Python?\n",
    "    -\n",
    "    To check if a file exists before attempting to read it in Python, you can use either the os module or the pathlib module. Both methods are effective, and the choice depends on your coding style and the Python version you're using.\n",
    "\n",
    "-> Method 1: Using os.path.isfile()\n",
    "The os.path.isfile() function checks whether a given path points to an existing regular file."
   ]
  },
  {
   "cell_type": "code",
   "execution_count": 134,
   "id": "7b133706-ebf9-4b6b-be69-b2c5f6852d51",
   "metadata": {},
   "outputs": [
    {
     "name": "stdout",
     "output_type": "stream",
     "text": [
      "Hello, Python file handling!This is a new line of text.\n",
      "First new line.\n",
      "Second new line.\n",
      "\n"
     ]
    }
   ],
   "source": [
    "import os\n",
    "\n",
    "file_path = 'example.txt'\n",
    "\n",
    "if os.path.isfile(file_path):\n",
    "    with open(file_path, 'r') as file:\n",
    "        content = file.read()\n",
    "        print(content)\n",
    "else:\n",
    "    print(f\"The file '{file_path}' does not exist.\")"
   ]
  },
  {
   "cell_type": "markdown",
   "id": "d6f98bc3-815d-45a9-aede-f06eb3709ac3",
   "metadata": {},
   "source": [
    "-> Explanation:\n",
    " - os.path.isfile(file_path) returns True if the path exists and is a file.\n",
    " - If the file exists, it is opened and read; otherwise, a message is printed."
   ]
  },
  {
   "cell_type": "markdown",
   "id": "f7ef7ea4-f3c9-4af3-bba9-a61b8f8b26bb",
   "metadata": {},
   "source": [
    "-> Method 2: Using pathlib.Path.is_file()\n",
    "The pathlib module provides an object-oriented approach to handling filesystem paths."
   ]
  },
  {
   "cell_type": "code",
   "execution_count": 138,
   "id": "dab31cba-4374-4d59-8a05-44e18b87ecdc",
   "metadata": {},
   "outputs": [
    {
     "name": "stdout",
     "output_type": "stream",
     "text": [
      "Hello, Python file handling!This is a new line of text.\n",
      "First new line.\n",
      "Second new line.\n",
      "\n"
     ]
    }
   ],
   "source": [
    "from pathlib import Path\n",
    "\n",
    "file_path = Path('example.txt')\n",
    "\n",
    "if file_path.is_file():\n",
    "    with file_path.open('r') as file:\n",
    "        content = file.read()\n",
    "        print(content)\n",
    "else:\n",
    "    print(f\"The file '{file_path}' does not exist.\")"
   ]
  },
  {
   "cell_type": "markdown",
   "id": "a1c8e124-876c-45c3-bbce-efe85a9abd35",
   "metadata": {},
   "source": [
    "-> Explanation:\n",
    "\n",
    " - file_path.is_file() checks if the path exists and is a file.\n",
    " - If the file exists, it is opened and read; otherwise, a message is printed."
   ]
  },
  {
   "cell_type": "markdown",
   "id": "214954f4-b9c0-4792-8039-b8866a76a25a",
   "metadata": {},
   "source": [
    "14. Write a program that uses the logging module to log both informational and error messages.\n",
    "    -\n",
    "    "
   ]
  },
  {
   "cell_type": "code",
   "execution_count": 144,
   "id": "d31fd69d-1a0b-4972-9711-32b6f6de720e",
   "metadata": {},
   "outputs": [],
   "source": [
    "import logging\n",
    "\n",
    "# Configure the logging\n",
    "logging.basicConfig(\n",
    "    filename='app.log',            # Log file name\n",
    "    level=logging.INFO,            # Set the logging level to INFO\n",
    "    format='%(asctime)s - %(levelname)s - %(message)s'  # Log message format\n",
    ")\n",
    "\n",
    "# Log an informational message\n",
    "logging.info('Application started.')\n",
    "\n",
    "try:\n",
    "    # Simulate an operation that may raise an exception\n",
    "    result = 10 / 0\n",
    "except ZeroDivisionError as e:\n",
    "    # Log an error message with exception information\n",
    "    logging.error(\"An error occurred: Division by zero.\", exc_info=True)\n",
    "\n",
    "# Log another informational message\n",
    "logging.info('Application finished.')"
   ]
  },
  {
   "cell_type": "markdown",
   "id": "8bf76c68-4e50-4d49-b869-bcf07922633d",
   "metadata": {},
   "source": [
    "-> Explanation:\n",
    "\n",
    " - Importing the logging Module: The logging module is part of Python's standard library and provides a flexible framework    for emitting log messages from Python programs.\n",
    "\n",
    " - Configuring Logging with basicConfig(): The basicConfig() function sets up the basic configuration for the logging         system.\n",
    "\n",
    " - filename='app.log': Specifies the name of the log file where messages will be written.\n",
    "\n",
    " - level=logging.INFO: Sets the logging level to INFO, which means that all messages at this level and above (i.e., INFO,     WARNING, ERROR, and CRITICAL) will be logged.\n",
    "\n",
    " - format='%(asctime)s - %(levelname)s - %(message)s': Defines the format of the log messages, including the timestamp,       the severity level, and the actual message.\n",
    "\n",
    " - Logging an Informational Message: The logging.info() function logs a message with the severity level INFO. This is         typically used to confirm that things are working as expected.\n",
    "\n",
    " - Handling Exceptions and Logging Errors: The try-except block is used to catch exceptions that may occur during program     execution. In this example, attempting to divide by zero raises a ZeroDivisionError.\n",
    "\n",
    " - logging.error(\"An error occurred: Division by zero.\", exc_info=True): Logs an error message with the severity level        ERROR. The exc_info=True parameter includes the traceback information in the log, which is helpful for debugging.\n",
    "\n",
    " - Logging Another Informational Message: After handling the exception, another informational message is logged to            indicate that the application has finished executing."
   ]
  },
  {
   "cell_type": "code",
   "execution_count": null,
   "id": "07a71f5b-55a8-4fe2-b05e-ba6a3b9b3e99",
   "metadata": {},
   "outputs": [],
   "source": [
    "#Output:\n",
    "\n",
    "#When you run this program, it will create a file named app.log in the current working directory with content similar to the following:\n",
    "\n",
    "2025-05-14 01:07:03,123 - INFO - Application started.\n",
    "2025-05-14 01:07:03,124 - ERROR - An error occurred: Division by zero.\n",
    "Traceback (most recent call last):\n",
    "  File \"example.py\", line 10, in <module>\n",
    "    result = 10 / 0\n",
    "ZeroDivisionError: division by zero\n",
    "2025-05-14 01:07:03,125 - INFO - Application finished."
   ]
  },
  {
   "cell_type": "markdown",
   "id": "d699fcba-5b28-4449-953c-ad1f07f04e21",
   "metadata": {},
   "source": [
    "-> Additional Tips:\n",
    "\n",
    " - Logging Levels: The logging module provides several levels of severity:\n",
    "\n",
    "   - DEBUG: Detailed information, typically of interest only when diagnosing problems.\n",
    "   - INFO: Confirmation that things are working as expected.\n",
    "   - WARNING: An indication that something unexpected happened, or indicative of some problem in the near future.\n",
    "   - ERROR: Due to a more serious problem, the software has not been able to perform some function.\n",
    "   - CRITICAL: A serious error, indicating that the program itself may be unable to continue running.\n",
    "\n",
    " - Logging to Console: If you prefer to log messages to the console instead of a file, you can modify the basicConfig()       call as follows:"
   ]
  },
  {
   "cell_type": "code",
   "execution_count": null,
   "id": "83abd636-84a3-416e-b85b-af7c76c03601",
   "metadata": {},
   "outputs": [],
   "source": [
    "logging.basicConfig(\n",
    "    level=logging.INFO,\n",
    "    format='%(asctime)s - %(levelname)s - %(message)s'\n",
    ")"
   ]
  },
  {
   "cell_type": "markdown",
   "id": "bff69372-4c6a-4ebe-85e5-bda8aa75d549",
   "metadata": {},
   "source": [
    "This will output log messages to the standard output (console).\n",
    "\n",
    "   - Custom Loggers: For more complex applications, you can create custom logger instances using logging.getLogger(name)        to have more control over logging behavior across different modules.\n",
    "\n",
    "By utilizing the logging module, you can effectively monitor and debug your Python applications, making it easier to maintain and troubleshoot issues as they arise."
   ]
  },
  {
   "cell_type": "markdown",
   "id": "28f69149-524d-406b-a147-c025e799e906",
   "metadata": {},
   "source": [
    "15. Write a Python program that prints the content of a file and handles the case when the file is empty.\n",
    "    -\n",
    "    "
   ]
  },
  {
   "cell_type": "code",
   "execution_count": 150,
   "id": "78b7eb9a-ecdc-437e-8bb7-2dea64bd5b27",
   "metadata": {},
   "outputs": [
    {
     "name": "stdout",
     "output_type": "stream",
     "text": [
      "File Contents:\n",
      "Hello, Python file handling!This is a new line of text.\n",
      "First new line.\n",
      "Second new line.\n",
      "\n"
     ]
    }
   ],
   "source": [
    "import os\n",
    "\n",
    "def read_file(file_path):\n",
    "    try:\n",
    "        # Check if the file exists\n",
    "        if not os.path.isfile(file_path):\n",
    "            print(f\"Error: The file '{file_path}' does not exist.\")\n",
    "            return\n",
    "\n",
    "        # Check if the file is empty\n",
    "        if os.path.getsize(file_path) == 0:\n",
    "            print(f\"The file '{file_path}' is empty.\")\n",
    "            return\n",
    "\n",
    "        # Read and print the file contents\n",
    "        with open(file_path, 'r') as file:\n",
    "            content = file.read()\n",
    "            print(\"File Contents:\")\n",
    "            print(content)\n",
    "\n",
    "    except Exception as e:\n",
    "        print(f\"An error occurred: {e}\")\n",
    "\n",
    "# Example usage\n",
    "file_path = 'example.txt'  # Replace with your file path\n",
    "read_file(file_path)"
   ]
  },
  {
   "cell_type": "markdown",
   "id": "3299ce7a-b845-4c26-9d48-744957fad440",
   "metadata": {},
   "source": [
    "-> Explanation:\n",
    "\n",
    " - Importing the os Module: The os module provides a way of using operating system-dependent functionality, such as checking if a file exists and getting its size.\n",
    "\n",
    " - Defining the read_file Function: This function takes a file path as an argument and performs the following steps:          - Check if the File Exists: Using os.path.isfile(file_path), the function verifies whether the specified file exists.        If it doesn't, an error message is displayed, and the function returns early.\n",
    "   - Check if the File is Empty: The function uses os.path.getsize(file_path) to determine the size of the file in bytes.       If the size is 0, it indicates that the file is empty, and a corresponding message is displayed.\n",
    "   - Read and Print the File Contents: If the file exists and is not empty, the function opens the file in read mode ('r')      using a with statement, reads its contents using file.read(), and prints the contents to the console.\n",
    "\n",
    "Handling Exceptions: The entire operation is enclosed within a try-except block to catch and handle any unexpected errors that may occur during file operations.\n",
    "\n",
    "-> Usage:\n",
    "\n",
    "   - Replace 'example.txt' with the path to the file you want to read.\n",
    "   - If the file does not exist, the program will display an error message.\n",
    "   - If the file exists but is empty, it will inform you that the file is empty.\n",
    "   - If the file exists and contains data, it will print the contents of the file.\n",
    "\n",
    "-> Note:\n",
    "\n",
    "   - This program uses os.path.getsize() to check if the file is empty, which is a reliable method for determining if a         file has zero bytes.\n",
    "   - Alternatively, you could read the file's contents and check if the returned string is empty, but using getsize() is        more efficient as it doesn't require reading the entire file into memory.\n",
    "Feel free to modify the file_path variable to point to the file you wish to read."
   ]
  },
  {
   "cell_type": "markdown",
   "id": "2b8cdecb-e2eb-400c-8b56-41d18d03bab9",
   "metadata": {},
   "source": [
    "16. Demonstrate how to use memory profiling to check the memory usage of a small program.\n",
    "    -\n",
    "    "
   ]
  },
  {
   "cell_type": "markdown",
   "id": "ad7c7133-3b83-46c4-b0a5-2fc0b958f471",
   "metadata": {},
   "source": [
    "Step 1: Install memory_profiler\n",
    "First, install the memory_profiler package using pip:"
   ]
  },
  {
   "cell_type": "code",
   "execution_count": null,
   "id": "648f96eb-4eb3-4899-9cc5-3e5864e78289",
   "metadata": {},
   "outputs": [],
   "source": [
    "pip install memory_profiler\n",
    "\n",
    "#If you also want to visualize memory usage with plots, install matplotlib:\n",
    "\n",
    "pip install matplotlib"
   ]
  },
  {
   "cell_type": "markdown",
   "id": "790279ca-0ab6-4a99-b621-eead5e4395f9",
   "metadata": {},
   "source": [
    "Step 2: Create a Sample Python Script\n",
    "Create a Python script (e.g., memory_example.py) with the following content:"
   ]
  },
  {
   "cell_type": "code",
   "execution_count": null,
   "id": "9fd5fd97-3b66-40c4-9e53-7e49bf24cc02",
   "metadata": {},
   "outputs": [],
   "source": [
    "from memory_profiler import profile\n",
    "\n",
    "@profile\n",
    "def allocate_memory():\n",
    "    a = [i for i in range(10000)]\n",
    "    b = [i ** 2 for i in range(10000)]\n",
    "    return a, b\n",
    "\n",
    "if __name__ == \"__main__\":\n",
    "    allocate_memory()\n",
    "\n",
    "#In this script, the @profile decorator is used to indicate that the allocate_memory function should be profiled for memory usage."
   ]
  },
  {
   "cell_type": "markdown",
   "id": "3ddaa400-b8c7-44d0-860a-94b44c79cde0",
   "metadata": {},
   "source": [
    "Step 3: Run the Script with Memory Profiling\n",
    "Execute the script using the -m memory_profiler option to obtain line-by-line memory usage:"
   ]
  },
  {
   "cell_type": "code",
   "execution_count": null,
   "id": "7be32142-eab2-44fc-b555-8a7c9223ada1",
   "metadata": {},
   "outputs": [],
   "source": [
    "python -m memory_profiler memory_example.py\n",
    "\n",
    "#This will output memory usage information for each line in the decorated function, helping you identify which lines consume the most memory."
   ]
  },
  {
   "cell_type": "markdown",
   "id": "3ef713b4-2b34-4e29-8b20-c95c63552d5e",
   "metadata": {},
   "source": [
    "-> Optional: Visualize Memory Usage Over Time\n",
    "For a time-based memory usage profile, you can use the mprof tool included with memory_profiler:\n",
    "\n",
    "a. Run your script with mprof to record memory usage over time:"
   ]
  },
  {
   "cell_type": "markdown",
   "id": "ceb31452-1512-4cbd-81fa-f83de36f2f26",
   "metadata": {},
   "source": [
    "mprof run memory_example.py\n",
    "\n",
    "#b. After running the script, generate a plot of memory usage:\n",
    "\n",
    "mprof plot\n",
    "\n",
    "#This will display a graph showing how memory usage changes over the execution of your program, which is useful for identifying memory leaks or spikes."
   ]
  },
  {
   "cell_type": "markdown",
   "id": "1640416b-64ad-4613-937e-cb689cb5d4ce",
   "metadata": {},
   "source": [
    "-> Notes:\n",
    "  - The memory_profiler module relies on the psutil package to access process information. Ensure that psutil is installed     in your environment.\n",
    "  - When using the @profile decorator, make sure to run the script with the -m memory_profiler option; otherwise, the          decorator will have no effect.\n",
    "  - The mprof tool samples memory usage at regular intervals, providing a high-level overview of memory consumption over       time.\n",
    "\n",
    "By following these steps, you can effectively profile and analyze the memory usage of your Python programs, aiding in optimization and debugging efforts."
   ]
  },
  {
   "cell_type": "markdown",
   "id": "07fd0728-3dff-477d-89b3-810e6e6bf4ba",
   "metadata": {},
   "source": [
    "17. Write a Python program to create and write a list of numbers to a file, one number per line.\n",
    "    -\n",
    "    "
   ]
  },
  {
   "cell_type": "code",
   "execution_count": 169,
   "id": "58ec8dcc-dba6-4091-be2b-747daa8683d1",
   "metadata": {},
   "outputs": [
    {
     "name": "stdout",
     "output_type": "stream",
     "text": [
      "Numbers have been written to numbers.txt\n"
     ]
    }
   ],
   "source": [
    "# Define a list of numbers\n",
    "numbers = [1, 2, 3, 4, 5, 6, 7, 8, 9, 10]\n",
    "\n",
    "# Specify the filename\n",
    "filename = \"numbers.txt\"\n",
    "\n",
    "# Write numbers to the file, one per line\n",
    "with open(filename, \"w\") as file:\n",
    "    for number in numbers:\n",
    "        file.write(f\"{number}\\n\")\n",
    "\n",
    "print(f\"Numbers have been written to {filename}\")"
   ]
  },
  {
   "cell_type": "markdown",
   "id": "570c596b-cdaa-4b1d-a481-fe53c95f2d14",
   "metadata": {},
   "source": [
    "-> This program:\n",
    "\n",
    " - Defines a list of numbers.\n",
    " - Opens a file named \"numbers.txt\" for writing.\n",
    " - Writes each number to the file on a separate line.\n",
    " -Closes the file automatically using the with statement."
   ]
  },
  {
   "cell_type": "code",
   "execution_count": 174,
   "id": "9ef0a208-1a98-44ef-aa7d-41e4ac7c9170",
   "metadata": {},
   "outputs": [
    {
     "name": "stdout",
     "output_type": "stream",
     "text": [
      "Numbers have been written to numbers.txt\n",
      "\n",
      "Reading from the file:\n",
      "10\n",
      "20\n",
      "30\n",
      "40\n",
      "50\n",
      "\n"
     ]
    }
   ],
   "source": [
    "# Define a list of numbers\n",
    "numbers = [10, 20, 30, 40, 50]\n",
    "\n",
    "# Specify the filename\n",
    "filename = \"numbers.txt\"\n",
    "\n",
    "# Write numbers to the file, one per line\n",
    "with open(filename, \"w\") as file:\n",
    "    for number in numbers:\n",
    "        file.write(f\"{number}\\n\")\n",
    "\n",
    "print(f\"Numbers have been written to {filename}\")\n",
    "\n",
    "# Read the file and display its content\n",
    "print(\"\\nReading from the file:\")\n",
    "with open(filename, \"r\") as file:\n",
    "    print(file.read())"
   ]
  },
  {
   "cell_type": "markdown",
   "id": "422c05ba-ea87-48f0-83d3-1c687e7114e3",
   "metadata": {},
   "source": [
    "18. How would you implement a basic logging setup that logs to a file with rotation after 1MB?\n",
    "    -\n",
    "    "
   ]
  },
  {
   "cell_type": "code",
   "execution_count": 177,
   "id": "ab2fa6b0-cc14-498e-aa38-ae602dec1045",
   "metadata": {},
   "outputs": [
    {
     "name": "stdout",
     "output_type": "stream",
     "text": [
      "Logging initialized. Logs will rotate after 1024.0 KB.\n"
     ]
    }
   ],
   "source": [
    "import logging\n",
    "from logging.handlers import RotatingFileHandler\n",
    "\n",
    "# Define log file name and size limit (1MB)\n",
    "log_file = \"app.log\"\n",
    "max_log_size = 1 * 1024 * 1024  # 1MB\n",
    "backup_count = 3  # Keep last 3 log files\n",
    "\n",
    "# Set up a rotating file handler\n",
    "handler = RotatingFileHandler(log_file, maxBytes=max_log_size, backupCount=backup_count)\n",
    "\n",
    "# Configure logging format\n",
    "logging.basicConfig(\n",
    "    level=logging.INFO,\n",
    "    format=\"%(asctime)s - %(levelname)s - %(message)s\",\n",
    "    handlers=[handler]\n",
    ")\n",
    "\n",
    "# Test logging\n",
    "for i in range(10000):\n",
    "    logging.info(f\"Log entry {i}: This is a test log message.\")\n",
    "\n",
    "print(f\"Logging initialized. Logs will rotate after {max_log_size / 1024} KB.\")"
   ]
  },
  {
   "cell_type": "markdown",
   "id": "98d84796-7d03-41be-b82c-d345bc89e047",
   "metadata": {},
   "source": [
    "-> How It Works:\n",
    " - RotatingFileHandler writes logs to app.log until it reaches 1MB.\n",
    " - Once the file exceeds 1MB, it creates backups like app.log.1, app.log.2, etc.\n",
    " - The backupCount=3 ensures only the last 3 log files are retained.\n",
    " - The log format includes timestamps for better tracking."
   ]
  },
  {
   "cell_type": "markdown",
   "id": "abe254ec-2495-4675-8b31-1ee985fc176a",
   "metadata": {},
   "source": [
    "19. Write a program that handles both IndexError and KeyError using a try-except block.\n",
    "    -\n",
    "    "
   ]
  },
  {
   "cell_type": "code",
   "execution_count": 181,
   "id": "0aada8f3-b333-4d0e-9ee5-00bc06dfdab0",
   "metadata": {},
   "outputs": [
    {
     "name": "stdout",
     "output_type": "stream",
     "text": [
      "IndexError occurred: list index out of range\n"
     ]
    }
   ],
   "source": [
    "try:\n",
    "    # Handling IndexError\n",
    "    my_list = [1, 2, 3]\n",
    "    print(my_list[5])  # This will raise an IndexError\n",
    "\n",
    "    # Handling KeyError\n",
    "    my_dict = {\"name\": \"Gajal\", \"age\": 25}\n",
    "    print(my_dict[\"address\"])  # This will raise a KeyError\n",
    "\n",
    "except IndexError as e:\n",
    "    print(f\"IndexError occurred: {e}\")\n",
    "\n",
    "except KeyError as e:\n",
    "    print(f\"KeyError occurred: {e}\")"
   ]
  },
  {
   "cell_type": "markdown",
   "id": "a27891fb-30ec-4464-ab91-75730874ebb0",
   "metadata": {},
   "source": [
    "-> Explanation:\n",
    " - IndexError Handling – The program tries to access an index (5) that is out of range in my_list.\n",
    " - KeyError Handling – The program attempts to access a non-existent key (\"address\") in my_dict.\n",
    " - Exception Handling – Using separate except blocks for each error type ensures the program identifies and handles each specific error properly."
   ]
  },
  {
   "cell_type": "markdown",
   "id": "8123ccf3-1d38-4610-a50d-07ffa6617422",
   "metadata": {},
   "source": [
    "20. How would you open a file and read its contents using a context manager in Python?\n",
    "    -\n",
    "    "
   ]
  },
  {
   "cell_type": "markdown",
   "id": "e294efa7-15fa-42ef-9a6f-0dc987790058",
   "metadata": {},
   "source": [
    "You can open a file and read its contents using a context manager in Python with the with statement. This ensures the file is properly closed after reading, even if an error occurs. Below is an example:"
   ]
  },
  {
   "cell_type": "code",
   "execution_count": 186,
   "id": "5cec6e7c-fb06-4c54-9fea-03139d9e3609",
   "metadata": {},
   "outputs": [
    {
     "name": "stdout",
     "output_type": "stream",
     "text": [
      "File Contents:\n",
      " Hello, Python file handling!This is a new line of text.\n",
      "First new line.\n",
      "Second new line.\n",
      "\n"
     ]
    }
   ],
   "source": [
    "# Open a file and read its contents using a context manager\n",
    "filename = \"example.txt\"\n",
    "\n",
    "try:\n",
    "    with open(filename, \"r\") as file:\n",
    "        content = file.read()\n",
    "        print(\"File Contents:\\n\", content)\n",
    "except FileNotFoundError:\n",
    "    print(f\"Error: The file '{filename}' does not exist.\")"
   ]
  },
  {
   "cell_type": "markdown",
   "id": "4eb7085d-4392-445b-86e2-c738afeb6028",
   "metadata": {},
   "source": [
    "-> Explanation:\n",
    " - with open(filename, \"r\") as file:\n",
    "   - Opens the file in read mode (\"r\").\n",
    "   - Ensures the file is closed automatically after reading.\n",
    "\n",
    " - file.read()\n",
    "   - Reads the entire contents of the file.\n",
    "     \n",
    " - Exception Handling (try-except)\n",
    "   - Catches a FileNotFoundError if the file does not exist."
   ]
  },
  {
   "cell_type": "markdown",
   "id": "4344f088-7b34-4477-ad6f-e3ab051d93be",
   "metadata": {},
   "source": [
    "21. Write a Python program that reads a file and prints the number of occurrences of a specific word.\n",
    "    -"
   ]
  },
  {
   "cell_type": "code",
   "execution_count": 190,
   "id": "29eee70d-4445-464c-9239-f34c6423c93c",
   "metadata": {},
   "outputs": [
    {
     "name": "stdout",
     "output_type": "stream",
     "text": [
      "The word 'Python' occurs 0 times in 'sample.txt'.\n"
     ]
    }
   ],
   "source": [
    "def count_word_occurrences(filename, target_word):\n",
    "    try:\n",
    "        with open(filename, \"r\") as file:\n",
    "            content = file.read()\n",
    "            word_count = content.lower().split().count(target_word.lower())\n",
    "            print(f\"The word '{target_word}' occurs {word_count} times in '{filename}'.\")\n",
    "    except FileNotFoundError:\n",
    "        print(f\"Error: The file '{filename}' does not exist.\")\n",
    "\n",
    "# Example usage\n",
    "filename = \"sample.txt\"  # Replace with your actual file name\n",
    "target_word = \"Python\"   # Replace with the word you want to count\n",
    "\n",
    "count_word_occurrences(filename, target_word)"
   ]
  },
  {
   "cell_type": "markdown",
   "id": "237b6c83-e802-4dfa-b3a0-5e4607decdff",
   "metadata": {},
   "source": [
    "-> Explanation:\n",
    " - Opens the file safely using a context manager (with statement).\n",
    " - Reads the entire content of the file.\n",
    " - Converts the text to lowercase to ensure case-insensitive matching.\n",
    " - Splits the text into words and counts occurrences of the target word.\n",
    " - Handles missing files using try-except for a graceful error message."
   ]
  },
  {
   "cell_type": "markdown",
   "id": "15dd102c-bbb9-4ebc-997c-ffc61d6ea5a6",
   "metadata": {},
   "source": [
    "22. How can you check if a file is empty before attempting to read its contents?\n",
    "    -\n",
    "    "
   ]
  },
  {
   "cell_type": "markdown",
   "id": "358ca83f-9386-42f4-a68d-7e2db9c74ebc",
   "metadata": {},
   "source": [
    "You can check if a file is empty before reading it in Python using the os module, file size checking, or reading the first character. Here are three approaches:"
   ]
  },
  {
   "cell_type": "code",
   "execution_count": null,
   "id": "01aa0403-a032-4d8f-88f5-c88374b54efb",
   "metadata": {},
   "outputs": [],
   "source": [
    "#Check File Size (Recommended)\n",
    "import os\n",
    "\n",
    "filename = \"example.txt\"\n",
    "\n",
    "if os.path.exists(filename) and os.path.getsize(filename) == 0:\n",
    "    print(f\"The file '{filename}' is empty.\")\n",
    "else:\n",
    "    with open(filename, \"r\") as file:\n",
    "        content = file.read()\n",
    "        print(\"File Contents:\\n\", content)\n",
    "\n",
    "#Uses os.path.getsize() to check if the file size is 0 bytes."
   ]
  },
  {
   "cell_type": "code",
   "execution_count": null,
   "id": "d76fc189-f227-4e0b-a9d8-30a7c824eded",
   "metadata": {},
   "outputs": [],
   "source": [
    "#Read First Character (Alternative)\n",
    "filename = \"example.txt\"\n",
    "\n",
    "with open(filename, \"r\") as file:\n",
    "    first_char = file.read(1)\n",
    "    if not first_char:\n",
    "        print(f\"The file '{filename}' is empty.\")\n",
    "    else:\n",
    "        file.seek(0)  # Move back to the beginning\n",
    "        print(\"File Contents:\\n\", file.read())\n",
    "#Reads one character—if empty, the file has no content."
   ]
  },
  {
   "cell_type": "code",
   "execution_count": null,
   "id": "e4e53998-958a-41f0-bf69-145ee2eb4d37",
   "metadata": {},
   "outputs": [],
   "source": [
    "#Using try-except to Handle File Not Found\n",
    "filename = \"example.txt\"\n",
    "\n",
    "try:\n",
    "    with open(filename, \"r\") as file:\n",
    "        if file.read().strip() == \"\":\n",
    "            print(f\"The file '{filename}' is empty.\")\n",
    "        else:\n",
    "            file.seek(0)\n",
    "            print(\"File Contents:\\n\", file.read())\n",
    "except FileNotFoundError:\n",
    "    print(f\"Error: The file '{filename}' does not exist.\")\n",
    "\n",
    "#Strips whitespace and handles missing files gracefully."
   ]
  },
  {
   "cell_type": "code",
   "execution_count": null,
   "id": "29a689b5-8640-4c9e-92c0-ee40f8587ac8",
   "metadata": {},
   "outputs": [],
   "source": [
    "#Example Output (If the file is empty):\n",
    "The file 'example.txt' is empty.\n",
    "\n",
    "#These methods ensure safe file handling before attempting to read. "
   ]
  },
  {
   "cell_type": "markdown",
   "id": "22e43708-a192-4e1b-99b6-28511f6dda19",
   "metadata": {},
   "source": [
    "23. Write a Python program that writes to a log file when an error occurs during file handling.\n",
    "    -\n",
    "    "
   ]
  },
  {
   "cell_type": "code",
   "execution_count": 201,
   "id": "04509edd-c610-45e0-a09f-d3ff9d2c486c",
   "metadata": {},
   "outputs": [
    {
     "name": "stdout",
     "output_type": "stream",
     "text": [
      "Error: The file 'nonexistent_file.txt' does not exist. See 'error.log' for details.\n"
     ]
    }
   ],
   "source": [
    "import logging\n",
    "\n",
    "# Configure logging to write to a log file\n",
    "logging.basicConfig(filename=\"error.log\", level=logging.ERROR, \n",
    "                    format=\"%(asctime)s - %(levelname)s - %(message)s\")\n",
    "\n",
    "def read_file(filename):\n",
    "    try:\n",
    "        with open(filename, \"r\") as file:\n",
    "            content = file.read()\n",
    "            print(\"File Contents:\\n\", content)\n",
    "    except FileNotFoundError as e:\n",
    "        logging.error(f\"Error: {e}\")  # Log error to the file\n",
    "        print(f\"Error: The file '{filename}' does not exist. See 'error.log' for details.\")\n",
    "\n",
    "# Example usage\n",
    "read_file(\"nonexistent_file.txt\")  # Attempt to read a non-existent file"
   ]
  },
  {
   "cell_type": "markdown",
   "id": "a2274745-63ca-419a-8c8b-15471d308b03",
   "metadata": {},
   "source": [
    "-> Explanation:\n",
    " - Logging Setup:\n",
    "   - Writes error messages to error.log.\n",
    "   - Uses ERROR level for logging.\n",
    "   - Includes timestamps using %(asctime)s) format.\n",
    "\n",
    " - try-except Block:\n",
    "   - Tries to open a file for reading.\n",
    "   - If the file doesn’t exist, it logs the error and prints a message.\n",
    "\n",
    " - Error Logging:\n",
    "   -Logs the error message in error.log for reference."
   ]
  },
  {
   "cell_type": "code",
   "execution_count": null,
   "id": "878edd09-42a9-4066-8a05-9dfb42fbd62b",
   "metadata": {},
   "outputs": [],
   "source": [
    "#Example Output (If file does not exist):\n",
    "Error: The file 'nonexistent_file.txt' does not exist. See 'error.log' for details."
   ]
  },
  {
   "cell_type": "code",
   "execution_count": null,
   "id": "e76a58a7-e3eb-447f-b46a-abc5541ed865",
   "metadata": {},
   "outputs": [],
   "source": [
    "#Example Log File (error.log):\n",
    "2025-05-14 02:37:00 - ERROR - Error: [Errno 2] No such file or directory: 'nonexistent_file.txt'"
   ]
  },
  {
   "cell_type": "markdown",
   "id": "6ef434c8-79aa-4334-8d26-241abed96f1f",
   "metadata": {},
   "source": [
    "#COMPLETE"
   ]
  }
 ],
 "metadata": {
  "kernelspec": {
   "display_name": "Python 3 (ipykernel)",
   "language": "python",
   "name": "python3"
  },
  "language_info": {
   "codemirror_mode": {
    "name": "ipython",
    "version": 3
   },
   "file_extension": ".py",
   "mimetype": "text/x-python",
   "name": "python",
   "nbconvert_exporter": "python",
   "pygments_lexer": "ipython3",
   "version": "3.12.7"
  }
 },
 "nbformat": 4,
 "nbformat_minor": 5
}
